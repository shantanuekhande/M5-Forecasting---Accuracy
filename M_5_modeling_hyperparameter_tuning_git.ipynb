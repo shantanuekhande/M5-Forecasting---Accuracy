{
  "nbformat": 4,
  "nbformat_minor": 0,
  "metadata": {
    "colab": {
      "name": "M_5_modeling/hyperparameter_tuning_git.ipynb",
      "provenance": [],
      "collapsed_sections": []
    },
    "kernelspec": {
      "name": "python3",
      "display_name": "Python 3"
    },
    "language_info": {
      "name": "python"
    }
  },
  "cells": [
    {
      "cell_type": "code",
      "metadata": {
        "id": "6fc5PCxIfZP6"
      },
      "source": [
        "from sklearn.metrics import mean_squared_error\n",
        "from sklearn.linear_model import SGDRegressor\n",
        "from sklearn.pipeline import make_pipeline\n",
        "from sklearn.preprocessing import StandardScaler\n",
        "from sklearn.tree import DecisionTreeRegressor\n",
        "from sklearn.ensemble import RandomForestRegressor\n",
        "from lightgbm import LGBMRegressor"
      ],
      "execution_count": null,
      "outputs": []
    },
    {
      "cell_type": "code",
      "metadata": {
        "id": "v_cb3qnW4otZ",
        "colab": {
          "base_uri": "https://localhost:8080/"
        },
        "outputId": "4564218d-1374-45eb-d8be-b7e0266c9866"
      },
      "source": [
        "import warnings\n",
        "warnings.filterwarnings(\"ignore\")\n",
        "import shutil\n",
        "import os\n",
        "import pandas as pd\n",
        "import matplotlib\n",
        "matplotlib.use(u'nbAgg')\n",
        "import matplotlib.pyplot as plt\n",
        "import seaborn as sns\n",
        "import numpy as np\n",
        "import pickle\n",
        "from tqdm import tqdm\n",
        "!pip install downcast\n",
        "import numpy, scipy.sparse\n",
        "from downcast import reduce"
      ],
      "execution_count": null,
      "outputs": [
        {
          "output_type": "stream",
          "text": [
            "Collecting downcast\n",
            "  Downloading downcast-0.0.8-py3-none-any.whl (3.3 kB)\n",
            "Installing collected packages: downcast\n",
            "Successfully installed downcast-0.0.8\n"
          ],
          "name": "stdout"
        }
      ]
    },
    {
      "cell_type": "code",
      "metadata": {
        "id": "dn1DSFOxMECv"
      },
      "source": [
        "with open(r'final_df.pkl','wb') as f:\n",
        "    pickle.dump(final_df,f)"
      ],
      "execution_count": null,
      "outputs": []
    },
    {
      "cell_type": "code",
      "metadata": {
        "colab": {
          "base_uri": "https://localhost:8080/"
        },
        "id": "MQAN256M0ux5",
        "outputId": "77c56122-b081-4344-e994-974d3958528a"
      },
      "source": [
        "from google.colab import drive\n",
        "drive.mount('/content/drive')"
      ],
      "execution_count": null,
      "outputs": [
        {
          "output_type": "stream",
          "text": [
            "Mounted at /content/drive\n"
          ],
          "name": "stdout"
        }
      ]
    },
    {
      "cell_type": "code",
      "metadata": {
        "colab": {
          "base_uri": "https://localhost:8080/",
          "height": 35
        },
        "id": "b3vb6eiqM5eq",
        "outputId": "95c67be7-1342-4494-ce0e-f1cd14888c00"
      },
      "source": [
        "import shutil\n",
        "# original = r'original path where the file is currently stored\\file name.file extension'\n",
        "# target = r'target path where the file will be copied\\file name.file extension'\n",
        "original=r'/content/final_df.pkl'\n",
        "target=r'/content/drive/MyDrive/Project Files/final_df_updated.pkl'\n",
        "shutil.copyfile(original,target)"
      ],
      "execution_count": null,
      "outputs": [
        {
          "output_type": "execute_result",
          "data": {
            "application/vnd.google.colaboratory.intrinsic+json": {
              "type": "string"
            },
            "text/plain": [
              "'/content/drive/MyDrive/Project Files/final_df_updated.pkl'"
            ]
          },
          "metadata": {
            "tags": []
          },
          "execution_count": 49
        }
      ]
    },
    {
      "cell_type": "code",
      "metadata": {
        "id": "uDWugs7IeYZT"
      },
      "source": [
        "# models \n",
        "LR_L1=make_pipeline(StandardScaler(),SGDRegressor(loss='squared_loss', penalty='l1',max_iter=1000, tol=1e-3))\n",
        "LR_L2=make_pipeline(StandardScaler(),SGDRegressor(loss='squared_loss', penalty='l2',max_iter=1000, tol=1e-3))\n",
        "SVR=make_pipeline(StandardScaler(),SGDRegressor(loss='epsilon_insensitive', penalty='l2',max_iter=1000, tol=1e-3))\n",
        "Decision_Tree=DecisionTreeRegressor()\n",
        "Random_Forest=RandomForestRegressor(max_depth=2)\n",
        "LGBM=LGBMRegressor()\n",
        "models=[LR_L1,LR_L2,SVR,Decision_Tree,Random_Forest,LGBM]"
      ],
      "execution_count": null,
      "outputs": []
    },
    {
      "cell_type": "markdown",
      "metadata": {
        "id": "RaokvHKvnU7Q"
      },
      "source": [
        "## Dividing data into train,CV,test"
      ]
    },
    {
      "cell_type": "markdown",
      "metadata": {
        "id": "cBT78nSZ1BWV"
      },
      "source": [
        "* I have drop some unuseful features year,event1_names,event2_names,id,\n",
        "product_id"
      ]
    },
    {
      "cell_type": "code",
      "metadata": {
        "id": "UQTQyITonqab"
      },
      "source": [
        "with open(r'/content/drive/MyDrive/Project Files/final_df_updated.pkl', 'rb') as f:\n",
        "    data= pickle.load(f)"
      ],
      "execution_count": null,
      "outputs": []
    },
    {
      "cell_type": "code",
      "metadata": {
        "id": "CfyAzvJWyRzJ"
      },
      "source": [
        "id=data[['id','day']]"
      ],
      "execution_count": null,
      "outputs": []
    },
    {
      "cell_type": "code",
      "metadata": {
        "colab": {
          "base_uri": "https://localhost:8080/",
          "height": 417
        },
        "id": "HMGJf5qWJlkn",
        "outputId": "02cd0a07-957b-477e-edc0-4401b782f31b"
      },
      "source": [
        "id"
      ],
      "execution_count": null,
      "outputs": [
        {
          "output_type": "execute_result",
          "data": {
            "text/html": [
              "<div>\n",
              "<style scoped>\n",
              "    .dataframe tbody tr th:only-of-type {\n",
              "        vertical-align: middle;\n",
              "    }\n",
              "\n",
              "    .dataframe tbody tr th {\n",
              "        vertical-align: top;\n",
              "    }\n",
              "\n",
              "    .dataframe thead th {\n",
              "        text-align: right;\n",
              "    }\n",
              "</style>\n",
              "<table border=\"1\" class=\"dataframe\">\n",
              "  <thead>\n",
              "    <tr style=\"text-align: right;\">\n",
              "      <th></th>\n",
              "      <th>id</th>\n",
              "      <th>day</th>\n",
              "    </tr>\n",
              "  </thead>\n",
              "  <tbody>\n",
              "    <tr>\n",
              "      <th>0</th>\n",
              "      <td>HOBBIES_1_001_CA_1_evaluation</td>\n",
              "      <td>1</td>\n",
              "    </tr>\n",
              "    <tr>\n",
              "      <th>1</th>\n",
              "      <td>HOBBIES_1_002_CA_1_evaluation</td>\n",
              "      <td>1</td>\n",
              "    </tr>\n",
              "    <tr>\n",
              "      <th>2</th>\n",
              "      <td>HOBBIES_1_003_CA_1_evaluation</td>\n",
              "      <td>1</td>\n",
              "    </tr>\n",
              "    <tr>\n",
              "      <th>3</th>\n",
              "      <td>HOBBIES_1_004_CA_1_evaluation</td>\n",
              "      <td>1</td>\n",
              "    </tr>\n",
              "    <tr>\n",
              "      <th>4</th>\n",
              "      <td>HOBBIES_1_005_CA_1_evaluation</td>\n",
              "      <td>1</td>\n",
              "    </tr>\n",
              "    <tr>\n",
              "      <th>...</th>\n",
              "      <td>...</td>\n",
              "      <td>...</td>\n",
              "    </tr>\n",
              "    <tr>\n",
              "      <th>59181085</th>\n",
              "      <td>FOODS_3_823_WI_3_evaluation</td>\n",
              "      <td>1941</td>\n",
              "    </tr>\n",
              "    <tr>\n",
              "      <th>59181086</th>\n",
              "      <td>FOODS_3_824_WI_3_evaluation</td>\n",
              "      <td>1941</td>\n",
              "    </tr>\n",
              "    <tr>\n",
              "      <th>59181087</th>\n",
              "      <td>FOODS_3_825_WI_3_evaluation</td>\n",
              "      <td>1941</td>\n",
              "    </tr>\n",
              "    <tr>\n",
              "      <th>59181088</th>\n",
              "      <td>FOODS_3_826_WI_3_evaluation</td>\n",
              "      <td>1941</td>\n",
              "    </tr>\n",
              "    <tr>\n",
              "      <th>59181089</th>\n",
              "      <td>FOODS_3_827_WI_3_evaluation</td>\n",
              "      <td>1941</td>\n",
              "    </tr>\n",
              "  </tbody>\n",
              "</table>\n",
              "<p>59181090 rows × 2 columns</p>\n",
              "</div>"
            ],
            "text/plain": [
              "                                     id   day\n",
              "0         HOBBIES_1_001_CA_1_evaluation     1\n",
              "1         HOBBIES_1_002_CA_1_evaluation     1\n",
              "2         HOBBIES_1_003_CA_1_evaluation     1\n",
              "3         HOBBIES_1_004_CA_1_evaluation     1\n",
              "4         HOBBIES_1_005_CA_1_evaluation     1\n",
              "...                                 ...   ...\n",
              "59181085    FOODS_3_823_WI_3_evaluation  1941\n",
              "59181086    FOODS_3_824_WI_3_evaluation  1941\n",
              "59181087    FOODS_3_825_WI_3_evaluation  1941\n",
              "59181088    FOODS_3_826_WI_3_evaluation  1941\n",
              "59181089    FOODS_3_827_WI_3_evaluation  1941\n",
              "\n",
              "[59181090 rows x 2 columns]"
            ]
          },
          "metadata": {
            "tags": []
          },
          "execution_count": 6
        }
      ]
    },
    {
      "cell_type": "markdown",
      "metadata": {
        "id": "qpoZDtTj5QPr"
      },
      "source": [
        "* dividing data into x (independent variables) and y (dependent variable)"
      ]
    },
    {
      "cell_type": "code",
      "metadata": {
        "id": "nROWWjPYzNWm"
      },
      "source": [
        "x=data.drop(columns=['id','sold'])"
      ],
      "execution_count": null,
      "outputs": []
    },
    {
      "cell_type": "code",
      "metadata": {
        "id": "aRy7RRaDzM-E"
      },
      "source": [
        "y=data[['day','sold']]"
      ],
      "execution_count": null,
      "outputs": []
    },
    {
      "cell_type": "code",
      "metadata": {
        "colab": {
          "base_uri": "https://localhost:8080/",
          "height": 223
        },
        "id": "NryTZVpq0IAR",
        "outputId": "77f69fb5-9a4f-4ca4-c276-6be1ebdc7ade"
      },
      "source": [
        "x.head()"
      ],
      "execution_count": null,
      "outputs": [
        {
          "output_type": "execute_result",
          "data": {
            "text/html": [
              "<div>\n",
              "<style scoped>\n",
              "    .dataframe tbody tr th:only-of-type {\n",
              "        vertical-align: middle;\n",
              "    }\n",
              "\n",
              "    .dataframe tbody tr th {\n",
              "        vertical-align: top;\n",
              "    }\n",
              "\n",
              "    .dataframe thead th {\n",
              "        text-align: right;\n",
              "    }\n",
              "</style>\n",
              "<table border=\"1\" class=\"dataframe\">\n",
              "  <thead>\n",
              "    <tr style=\"text-align: right;\">\n",
              "      <th></th>\n",
              "      <th>wday</th>\n",
              "      <th>month</th>\n",
              "      <th>snap_CA</th>\n",
              "      <th>snap_TX</th>\n",
              "      <th>snap_WI</th>\n",
              "      <th>is_high_sale_months</th>\n",
              "      <th>is_high_sale_day</th>\n",
              "      <th>is_christmas</th>\n",
              "      <th>lag_1</th>\n",
              "      <th>lag_7</th>\n",
              "      <th>lag_14</th>\n",
              "      <th>lag_21</th>\n",
              "      <th>lag_28</th>\n",
              "      <th>lag_35</th>\n",
              "      <th>lag_42</th>\n",
              "      <th>lag_49</th>\n",
              "      <th>lag_56</th>\n",
              "      <th>lag_63</th>\n",
              "      <th>lag_70</th>\n",
              "      <th>rolling_mean_7</th>\n",
              "      <th>rolling_mean_14</th>\n",
              "      <th>rolling_mean_21</th>\n",
              "      <th>rolling_mean_28</th>\n",
              "      <th>rolling_mean_35</th>\n",
              "      <th>rolling_mean_42</th>\n",
              "      <th>expanding_mean</th>\n",
              "      <th>event_type_1_</th>\n",
              "      <th>event_type_2_</th>\n",
              "      <th>dept_id_</th>\n",
              "      <th>cat_id_</th>\n",
              "      <th>store_id_</th>\n",
              "      <th>state_id_</th>\n",
              "      <th>day</th>\n",
              "      <th>price</th>\n",
              "    </tr>\n",
              "  </thead>\n",
              "  <tbody>\n",
              "    <tr>\n",
              "      <th>0</th>\n",
              "      <td>1</td>\n",
              "      <td>1</td>\n",
              "      <td>0</td>\n",
              "      <td>0</td>\n",
              "      <td>0</td>\n",
              "      <td>0</td>\n",
              "      <td>1</td>\n",
              "      <td>0</td>\n",
              "      <td>0.0</td>\n",
              "      <td>0.0</td>\n",
              "      <td>0.0</td>\n",
              "      <td>0.0</td>\n",
              "      <td>0.0</td>\n",
              "      <td>0.0</td>\n",
              "      <td>0.0</td>\n",
              "      <td>0.0</td>\n",
              "      <td>0.0</td>\n",
              "      <td>0.0</td>\n",
              "      <td>0.0</td>\n",
              "      <td>0.0</td>\n",
              "      <td>0.0</td>\n",
              "      <td>0.0</td>\n",
              "      <td>0.0</td>\n",
              "      <td>0.0</td>\n",
              "      <td>0.0</td>\n",
              "      <td>0.0</td>\n",
              "      <td>2</td>\n",
              "      <td>1</td>\n",
              "      <td>3</td>\n",
              "      <td>1</td>\n",
              "      <td>0</td>\n",
              "      <td>0</td>\n",
              "      <td>1</td>\n",
              "      <td>0.0</td>\n",
              "    </tr>\n",
              "    <tr>\n",
              "      <th>1</th>\n",
              "      <td>1</td>\n",
              "      <td>1</td>\n",
              "      <td>0</td>\n",
              "      <td>0</td>\n",
              "      <td>0</td>\n",
              "      <td>0</td>\n",
              "      <td>1</td>\n",
              "      <td>0</td>\n",
              "      <td>0.0</td>\n",
              "      <td>0.0</td>\n",
              "      <td>0.0</td>\n",
              "      <td>0.0</td>\n",
              "      <td>0.0</td>\n",
              "      <td>0.0</td>\n",
              "      <td>0.0</td>\n",
              "      <td>0.0</td>\n",
              "      <td>0.0</td>\n",
              "      <td>0.0</td>\n",
              "      <td>0.0</td>\n",
              "      <td>0.0</td>\n",
              "      <td>0.0</td>\n",
              "      <td>0.0</td>\n",
              "      <td>0.0</td>\n",
              "      <td>0.0</td>\n",
              "      <td>0.0</td>\n",
              "      <td>0.0</td>\n",
              "      <td>2</td>\n",
              "      <td>1</td>\n",
              "      <td>3</td>\n",
              "      <td>1</td>\n",
              "      <td>0</td>\n",
              "      <td>0</td>\n",
              "      <td>1</td>\n",
              "      <td>0.0</td>\n",
              "    </tr>\n",
              "    <tr>\n",
              "      <th>2</th>\n",
              "      <td>1</td>\n",
              "      <td>1</td>\n",
              "      <td>0</td>\n",
              "      <td>0</td>\n",
              "      <td>0</td>\n",
              "      <td>0</td>\n",
              "      <td>1</td>\n",
              "      <td>0</td>\n",
              "      <td>0.0</td>\n",
              "      <td>0.0</td>\n",
              "      <td>0.0</td>\n",
              "      <td>0.0</td>\n",
              "      <td>0.0</td>\n",
              "      <td>0.0</td>\n",
              "      <td>0.0</td>\n",
              "      <td>0.0</td>\n",
              "      <td>0.0</td>\n",
              "      <td>0.0</td>\n",
              "      <td>0.0</td>\n",
              "      <td>0.0</td>\n",
              "      <td>0.0</td>\n",
              "      <td>0.0</td>\n",
              "      <td>0.0</td>\n",
              "      <td>0.0</td>\n",
              "      <td>0.0</td>\n",
              "      <td>0.0</td>\n",
              "      <td>2</td>\n",
              "      <td>1</td>\n",
              "      <td>3</td>\n",
              "      <td>1</td>\n",
              "      <td>0</td>\n",
              "      <td>0</td>\n",
              "      <td>1</td>\n",
              "      <td>0.0</td>\n",
              "    </tr>\n",
              "    <tr>\n",
              "      <th>3</th>\n",
              "      <td>1</td>\n",
              "      <td>1</td>\n",
              "      <td>0</td>\n",
              "      <td>0</td>\n",
              "      <td>0</td>\n",
              "      <td>0</td>\n",
              "      <td>1</td>\n",
              "      <td>0</td>\n",
              "      <td>0.0</td>\n",
              "      <td>0.0</td>\n",
              "      <td>0.0</td>\n",
              "      <td>0.0</td>\n",
              "      <td>0.0</td>\n",
              "      <td>0.0</td>\n",
              "      <td>0.0</td>\n",
              "      <td>0.0</td>\n",
              "      <td>0.0</td>\n",
              "      <td>0.0</td>\n",
              "      <td>0.0</td>\n",
              "      <td>0.0</td>\n",
              "      <td>0.0</td>\n",
              "      <td>0.0</td>\n",
              "      <td>0.0</td>\n",
              "      <td>0.0</td>\n",
              "      <td>0.0</td>\n",
              "      <td>0.0</td>\n",
              "      <td>2</td>\n",
              "      <td>1</td>\n",
              "      <td>3</td>\n",
              "      <td>1</td>\n",
              "      <td>0</td>\n",
              "      <td>0</td>\n",
              "      <td>1</td>\n",
              "      <td>0.0</td>\n",
              "    </tr>\n",
              "    <tr>\n",
              "      <th>4</th>\n",
              "      <td>1</td>\n",
              "      <td>1</td>\n",
              "      <td>0</td>\n",
              "      <td>0</td>\n",
              "      <td>0</td>\n",
              "      <td>0</td>\n",
              "      <td>1</td>\n",
              "      <td>0</td>\n",
              "      <td>0.0</td>\n",
              "      <td>0.0</td>\n",
              "      <td>0.0</td>\n",
              "      <td>0.0</td>\n",
              "      <td>0.0</td>\n",
              "      <td>0.0</td>\n",
              "      <td>0.0</td>\n",
              "      <td>0.0</td>\n",
              "      <td>0.0</td>\n",
              "      <td>0.0</td>\n",
              "      <td>0.0</td>\n",
              "      <td>0.0</td>\n",
              "      <td>0.0</td>\n",
              "      <td>0.0</td>\n",
              "      <td>0.0</td>\n",
              "      <td>0.0</td>\n",
              "      <td>0.0</td>\n",
              "      <td>0.0</td>\n",
              "      <td>2</td>\n",
              "      <td>1</td>\n",
              "      <td>3</td>\n",
              "      <td>1</td>\n",
              "      <td>0</td>\n",
              "      <td>0</td>\n",
              "      <td>1</td>\n",
              "      <td>0.0</td>\n",
              "    </tr>\n",
              "  </tbody>\n",
              "</table>\n",
              "</div>"
            ],
            "text/plain": [
              "   wday  month  snap_CA  snap_TX  ...  store_id_  state_id_  day  price\n",
              "0     1      1        0        0  ...          0          0    1    0.0\n",
              "1     1      1        0        0  ...          0          0    1    0.0\n",
              "2     1      1        0        0  ...          0          0    1    0.0\n",
              "3     1      1        0        0  ...          0          0    1    0.0\n",
              "4     1      1        0        0  ...          0          0    1    0.0\n",
              "\n",
              "[5 rows x 34 columns]"
            ]
          },
          "metadata": {
            "tags": []
          },
          "execution_count": 9
        }
      ]
    },
    {
      "cell_type": "code",
      "metadata": {
        "colab": {
          "base_uri": "https://localhost:8080/",
          "height": 203
        },
        "id": "YkwcUF7Czw1m",
        "outputId": "015936dd-2cbd-449a-bf06-7829eb9de223"
      },
      "source": [
        "y.head()"
      ],
      "execution_count": null,
      "outputs": [
        {
          "output_type": "execute_result",
          "data": {
            "text/html": [
              "<div>\n",
              "<style scoped>\n",
              "    .dataframe tbody tr th:only-of-type {\n",
              "        vertical-align: middle;\n",
              "    }\n",
              "\n",
              "    .dataframe tbody tr th {\n",
              "        vertical-align: top;\n",
              "    }\n",
              "\n",
              "    .dataframe thead th {\n",
              "        text-align: right;\n",
              "    }\n",
              "</style>\n",
              "<table border=\"1\" class=\"dataframe\">\n",
              "  <thead>\n",
              "    <tr style=\"text-align: right;\">\n",
              "      <th></th>\n",
              "      <th>day</th>\n",
              "      <th>sold</th>\n",
              "    </tr>\n",
              "  </thead>\n",
              "  <tbody>\n",
              "    <tr>\n",
              "      <th>0</th>\n",
              "      <td>1</td>\n",
              "      <td>0</td>\n",
              "    </tr>\n",
              "    <tr>\n",
              "      <th>1</th>\n",
              "      <td>1</td>\n",
              "      <td>0</td>\n",
              "    </tr>\n",
              "    <tr>\n",
              "      <th>2</th>\n",
              "      <td>1</td>\n",
              "      <td>0</td>\n",
              "    </tr>\n",
              "    <tr>\n",
              "      <th>3</th>\n",
              "      <td>1</td>\n",
              "      <td>0</td>\n",
              "    </tr>\n",
              "    <tr>\n",
              "      <th>4</th>\n",
              "      <td>1</td>\n",
              "      <td>0</td>\n",
              "    </tr>\n",
              "  </tbody>\n",
              "</table>\n",
              "</div>"
            ],
            "text/plain": [
              "   day  sold\n",
              "0    1     0\n",
              "1    1     0\n",
              "2    1     0\n",
              "3    1     0\n",
              "4    1     0"
            ]
          },
          "metadata": {
            "tags": []
          },
          "execution_count": 10
        }
      ]
    },
    {
      "cell_type": "code",
      "metadata": {
        "id": "Oby1_gWC8wEj"
      },
      "source": [
        "x_train=x.loc[(x['day']>=916)&(x['day']<=1885)]\n",
        "x_CV=x.loc[(x['day']>1885) &(x['day']<1914)]\n",
        "x_test=x.loc[x['day']>=1914]"
      ],
      "execution_count": null,
      "outputs": []
    },
    {
      "cell_type": "code",
      "metadata": {
        "colab": {
          "base_uri": "https://localhost:8080/"
        },
        "id": "NNFvFt7jdSYh",
        "outputId": "8f17074e-d390-4f6a-a27c-bce5e55d068d"
      },
      "source": [
        "print(\"x_train {}\".format(x_train.shape))\n",
        "print(\"x_CV {}\".format(x_CV.shape))\n",
        "print(\"x_test {}\".format(x_test.shape))"
      ],
      "execution_count": null,
      "outputs": [
        {
          "output_type": "stream",
          "text": [
            "x_train (29575300, 34)\n",
            "x_CV (853720, 34)\n",
            "x_test (853720, 34)\n"
          ],
          "name": "stdout"
        }
      ]
    },
    {
      "cell_type": "code",
      "metadata": {
        "id": "7OWvE_EI7yDz"
      },
      "source": [
        "x_train.drop(columns=['day'],inplace=True)\n",
        "x_CV.drop(columns=['day'],inplace=True)\n",
        "x_test=x_test.drop(columns=['day'])"
      ],
      "execution_count": null,
      "outputs": []
    },
    {
      "cell_type": "code",
      "metadata": {
        "colab": {
          "base_uri": "https://localhost:8080/",
          "height": 223
        },
        "id": "aLZyowwr8wEk",
        "outputId": "d4c1805b-509b-49b4-c96b-3a0d0b9e6aa7"
      },
      "source": [
        "x_train.head()"
      ],
      "execution_count": null,
      "outputs": [
        {
          "output_type": "execute_result",
          "data": {
            "text/html": [
              "<div>\n",
              "<style scoped>\n",
              "    .dataframe tbody tr th:only-of-type {\n",
              "        vertical-align: middle;\n",
              "    }\n",
              "\n",
              "    .dataframe tbody tr th {\n",
              "        vertical-align: top;\n",
              "    }\n",
              "\n",
              "    .dataframe thead th {\n",
              "        text-align: right;\n",
              "    }\n",
              "</style>\n",
              "<table border=\"1\" class=\"dataframe\">\n",
              "  <thead>\n",
              "    <tr style=\"text-align: right;\">\n",
              "      <th></th>\n",
              "      <th>wday</th>\n",
              "      <th>month</th>\n",
              "      <th>snap_CA</th>\n",
              "      <th>snap_TX</th>\n",
              "      <th>snap_WI</th>\n",
              "      <th>is_high_sale_months</th>\n",
              "      <th>is_high_sale_day</th>\n",
              "      <th>is_christmas</th>\n",
              "      <th>lag_1</th>\n",
              "      <th>lag_7</th>\n",
              "      <th>lag_14</th>\n",
              "      <th>lag_21</th>\n",
              "      <th>lag_28</th>\n",
              "      <th>lag_35</th>\n",
              "      <th>lag_42</th>\n",
              "      <th>lag_49</th>\n",
              "      <th>lag_56</th>\n",
              "      <th>lag_63</th>\n",
              "      <th>lag_70</th>\n",
              "      <th>rolling_mean_7</th>\n",
              "      <th>rolling_mean_14</th>\n",
              "      <th>rolling_mean_21</th>\n",
              "      <th>rolling_mean_28</th>\n",
              "      <th>rolling_mean_35</th>\n",
              "      <th>rolling_mean_42</th>\n",
              "      <th>expanding_mean</th>\n",
              "      <th>event_type_1_</th>\n",
              "      <th>event_type_2_</th>\n",
              "      <th>dept_id_</th>\n",
              "      <th>cat_id_</th>\n",
              "      <th>store_id_</th>\n",
              "      <th>state_id_</th>\n",
              "      <th>price</th>\n",
              "    </tr>\n",
              "  </thead>\n",
              "  <tbody>\n",
              "    <tr>\n",
              "      <th>27898350</th>\n",
              "      <td>6</td>\n",
              "      <td>8</td>\n",
              "      <td>1</td>\n",
              "      <td>1</td>\n",
              "      <td>0</td>\n",
              "      <td>0</td>\n",
              "      <td>0</td>\n",
              "      <td>0</td>\n",
              "      <td>0.0</td>\n",
              "      <td>0.0</td>\n",
              "      <td>1.0</td>\n",
              "      <td>0.0</td>\n",
              "      <td>0.0</td>\n",
              "      <td>0.0</td>\n",
              "      <td>0.0</td>\n",
              "      <td>0.0</td>\n",
              "      <td>0.0</td>\n",
              "      <td>0.0</td>\n",
              "      <td>0.0</td>\n",
              "      <td>0.000000</td>\n",
              "      <td>0.000000</td>\n",
              "      <td>0.047619</td>\n",
              "      <td>0.035706</td>\n",
              "      <td>0.028564</td>\n",
              "      <td>0.023804</td>\n",
              "      <td>0.001092</td>\n",
              "      <td>2</td>\n",
              "      <td>1</td>\n",
              "      <td>3</td>\n",
              "      <td>1</td>\n",
              "      <td>0</td>\n",
              "      <td>0</td>\n",
              "      <td>8.257812</td>\n",
              "    </tr>\n",
              "    <tr>\n",
              "      <th>27898351</th>\n",
              "      <td>6</td>\n",
              "      <td>8</td>\n",
              "      <td>1</td>\n",
              "      <td>1</td>\n",
              "      <td>0</td>\n",
              "      <td>0</td>\n",
              "      <td>0</td>\n",
              "      <td>0</td>\n",
              "      <td>0.0</td>\n",
              "      <td>0.0</td>\n",
              "      <td>0.0</td>\n",
              "      <td>2.0</td>\n",
              "      <td>0.0</td>\n",
              "      <td>0.0</td>\n",
              "      <td>0.0</td>\n",
              "      <td>0.0</td>\n",
              "      <td>0.0</td>\n",
              "      <td>0.0</td>\n",
              "      <td>0.0</td>\n",
              "      <td>0.000000</td>\n",
              "      <td>0.214233</td>\n",
              "      <td>0.190476</td>\n",
              "      <td>0.250000</td>\n",
              "      <td>0.285645</td>\n",
              "      <td>0.261963</td>\n",
              "      <td>0.221558</td>\n",
              "      <td>2</td>\n",
              "      <td>1</td>\n",
              "      <td>3</td>\n",
              "      <td>1</td>\n",
              "      <td>0</td>\n",
              "      <td>0</td>\n",
              "      <td>3.970703</td>\n",
              "    </tr>\n",
              "    <tr>\n",
              "      <th>27898352</th>\n",
              "      <td>6</td>\n",
              "      <td>8</td>\n",
              "      <td>1</td>\n",
              "      <td>1</td>\n",
              "      <td>0</td>\n",
              "      <td>0</td>\n",
              "      <td>0</td>\n",
              "      <td>0</td>\n",
              "      <td>0.0</td>\n",
              "      <td>0.0</td>\n",
              "      <td>0.0</td>\n",
              "      <td>0.0</td>\n",
              "      <td>0.0</td>\n",
              "      <td>0.0</td>\n",
              "      <td>0.0</td>\n",
              "      <td>0.0</td>\n",
              "      <td>0.0</td>\n",
              "      <td>0.0</td>\n",
              "      <td>0.0</td>\n",
              "      <td>0.000000</td>\n",
              "      <td>0.000000</td>\n",
              "      <td>0.000000</td>\n",
              "      <td>0.000000</td>\n",
              "      <td>0.000000</td>\n",
              "      <td>0.000000</td>\n",
              "      <td>0.000000</td>\n",
              "      <td>2</td>\n",
              "      <td>1</td>\n",
              "      <td>3</td>\n",
              "      <td>1</td>\n",
              "      <td>0</td>\n",
              "      <td>0</td>\n",
              "      <td>0.000000</td>\n",
              "    </tr>\n",
              "    <tr>\n",
              "      <th>27898353</th>\n",
              "      <td>6</td>\n",
              "      <td>8</td>\n",
              "      <td>1</td>\n",
              "      <td>1</td>\n",
              "      <td>0</td>\n",
              "      <td>0</td>\n",
              "      <td>0</td>\n",
              "      <td>0</td>\n",
              "      <td>2.0</td>\n",
              "      <td>1.0</td>\n",
              "      <td>0.0</td>\n",
              "      <td>0.0</td>\n",
              "      <td>0.0</td>\n",
              "      <td>1.0</td>\n",
              "      <td>0.0</td>\n",
              "      <td>0.0</td>\n",
              "      <td>1.0</td>\n",
              "      <td>0.0</td>\n",
              "      <td>0.0</td>\n",
              "      <td>2.142578</td>\n",
              "      <td>1.786133</td>\n",
              "      <td>1.190476</td>\n",
              "      <td>0.964355</td>\n",
              "      <td>1.028320</td>\n",
              "      <td>1.023438</td>\n",
              "      <td>1.215820</td>\n",
              "      <td>2</td>\n",
              "      <td>1</td>\n",
              "      <td>3</td>\n",
              "      <td>1</td>\n",
              "      <td>0</td>\n",
              "      <td>0</td>\n",
              "      <td>4.640625</td>\n",
              "    </tr>\n",
              "    <tr>\n",
              "      <th>27898354</th>\n",
              "      <td>6</td>\n",
              "      <td>8</td>\n",
              "      <td>1</td>\n",
              "      <td>1</td>\n",
              "      <td>0</td>\n",
              "      <td>0</td>\n",
              "      <td>0</td>\n",
              "      <td>0</td>\n",
              "      <td>0.0</td>\n",
              "      <td>0.0</td>\n",
              "      <td>1.0</td>\n",
              "      <td>5.0</td>\n",
              "      <td>0.0</td>\n",
              "      <td>4.0</td>\n",
              "      <td>0.0</td>\n",
              "      <td>2.0</td>\n",
              "      <td>0.0</td>\n",
              "      <td>0.0</td>\n",
              "      <td>3.0</td>\n",
              "      <td>1.286133</td>\n",
              "      <td>1.071289</td>\n",
              "      <td>1.000000</td>\n",
              "      <td>1.321289</td>\n",
              "      <td>1.200195</td>\n",
              "      <td>1.119141</td>\n",
              "      <td>0.877930</td>\n",
              "      <td>2</td>\n",
              "      <td>1</td>\n",
              "      <td>3</td>\n",
              "      <td>1</td>\n",
              "      <td>0</td>\n",
              "      <td>0</td>\n",
              "      <td>3.080078</td>\n",
              "    </tr>\n",
              "  </tbody>\n",
              "</table>\n",
              "</div>"
            ],
            "text/plain": [
              "          wday  month  snap_CA  ...  store_id_  state_id_     price\n",
              "27898350     6      8        1  ...          0          0  8.257812\n",
              "27898351     6      8        1  ...          0          0  3.970703\n",
              "27898352     6      8        1  ...          0          0  0.000000\n",
              "27898353     6      8        1  ...          0          0  4.640625\n",
              "27898354     6      8        1  ...          0          0  3.080078\n",
              "\n",
              "[5 rows x 33 columns]"
            ]
          },
          "metadata": {
            "tags": []
          },
          "execution_count": 14
        }
      ]
    },
    {
      "cell_type": "code",
      "metadata": {
        "colab": {
          "base_uri": "https://localhost:8080/",
          "height": 223
        },
        "id": "sv12QUs_8wEl",
        "outputId": "24414f10-17a3-466f-a10f-275b696372bb"
      },
      "source": [
        "x_CV.head()"
      ],
      "execution_count": null,
      "outputs": [
        {
          "output_type": "execute_result",
          "data": {
            "text/html": [
              "<div>\n",
              "<style scoped>\n",
              "    .dataframe tbody tr th:only-of-type {\n",
              "        vertical-align: middle;\n",
              "    }\n",
              "\n",
              "    .dataframe tbody tr th {\n",
              "        vertical-align: top;\n",
              "    }\n",
              "\n",
              "    .dataframe thead th {\n",
              "        text-align: right;\n",
              "    }\n",
              "</style>\n",
              "<table border=\"1\" class=\"dataframe\">\n",
              "  <thead>\n",
              "    <tr style=\"text-align: right;\">\n",
              "      <th></th>\n",
              "      <th>wday</th>\n",
              "      <th>month</th>\n",
              "      <th>snap_CA</th>\n",
              "      <th>snap_TX</th>\n",
              "      <th>snap_WI</th>\n",
              "      <th>is_high_sale_months</th>\n",
              "      <th>is_high_sale_day</th>\n",
              "      <th>is_christmas</th>\n",
              "      <th>lag_1</th>\n",
              "      <th>lag_7</th>\n",
              "      <th>lag_14</th>\n",
              "      <th>lag_21</th>\n",
              "      <th>lag_28</th>\n",
              "      <th>lag_35</th>\n",
              "      <th>lag_42</th>\n",
              "      <th>lag_49</th>\n",
              "      <th>lag_56</th>\n",
              "      <th>lag_63</th>\n",
              "      <th>lag_70</th>\n",
              "      <th>rolling_mean_7</th>\n",
              "      <th>rolling_mean_14</th>\n",
              "      <th>rolling_mean_21</th>\n",
              "      <th>rolling_mean_28</th>\n",
              "      <th>rolling_mean_35</th>\n",
              "      <th>rolling_mean_42</th>\n",
              "      <th>expanding_mean</th>\n",
              "      <th>event_type_1_</th>\n",
              "      <th>event_type_2_</th>\n",
              "      <th>dept_id_</th>\n",
              "      <th>cat_id_</th>\n",
              "      <th>store_id_</th>\n",
              "      <th>state_id_</th>\n",
              "      <th>price</th>\n",
              "    </tr>\n",
              "  </thead>\n",
              "  <tbody>\n",
              "    <tr>\n",
              "      <th>57473650</th>\n",
              "      <td>3</td>\n",
              "      <td>3</td>\n",
              "      <td>0</td>\n",
              "      <td>0</td>\n",
              "      <td>0</td>\n",
              "      <td>1</td>\n",
              "      <td>0</td>\n",
              "      <td>0</td>\n",
              "      <td>1.0</td>\n",
              "      <td>1.0</td>\n",
              "      <td>0.0</td>\n",
              "      <td>0.0</td>\n",
              "      <td>0.0</td>\n",
              "      <td>4.0</td>\n",
              "      <td>0.0</td>\n",
              "      <td>2.0</td>\n",
              "      <td>1.0</td>\n",
              "      <td>0.0</td>\n",
              "      <td>0.0</td>\n",
              "      <td>1.142578</td>\n",
              "      <td>1.357422</td>\n",
              "      <td>1.142857</td>\n",
              "      <td>1.036133</td>\n",
              "      <td>1.057617</td>\n",
              "      <td>1.071289</td>\n",
              "      <td>0.304443</td>\n",
              "      <td>2</td>\n",
              "      <td>1</td>\n",
              "      <td>3</td>\n",
              "      <td>1</td>\n",
              "      <td>0</td>\n",
              "      <td>0</td>\n",
              "      <td>8.257812</td>\n",
              "    </tr>\n",
              "    <tr>\n",
              "      <th>57473651</th>\n",
              "      <td>3</td>\n",
              "      <td>3</td>\n",
              "      <td>0</td>\n",
              "      <td>0</td>\n",
              "      <td>0</td>\n",
              "      <td>1</td>\n",
              "      <td>0</td>\n",
              "      <td>0</td>\n",
              "      <td>1.0</td>\n",
              "      <td>0.0</td>\n",
              "      <td>0.0</td>\n",
              "      <td>1.0</td>\n",
              "      <td>0.0</td>\n",
              "      <td>0.0</td>\n",
              "      <td>0.0</td>\n",
              "      <td>1.0</td>\n",
              "      <td>1.0</td>\n",
              "      <td>0.0</td>\n",
              "      <td>1.0</td>\n",
              "      <td>0.714355</td>\n",
              "      <td>0.357178</td>\n",
              "      <td>0.333333</td>\n",
              "      <td>0.357178</td>\n",
              "      <td>0.314209</td>\n",
              "      <td>0.309570</td>\n",
              "      <td>0.260986</td>\n",
              "      <td>2</td>\n",
              "      <td>1</td>\n",
              "      <td>3</td>\n",
              "      <td>1</td>\n",
              "      <td>0</td>\n",
              "      <td>0</td>\n",
              "      <td>3.970703</td>\n",
              "    </tr>\n",
              "    <tr>\n",
              "      <th>57473652</th>\n",
              "      <td>3</td>\n",
              "      <td>3</td>\n",
              "      <td>0</td>\n",
              "      <td>0</td>\n",
              "      <td>0</td>\n",
              "      <td>1</td>\n",
              "      <td>0</td>\n",
              "      <td>0</td>\n",
              "      <td>0.0</td>\n",
              "      <td>0.0</td>\n",
              "      <td>0.0</td>\n",
              "      <td>1.0</td>\n",
              "      <td>0.0</td>\n",
              "      <td>0.0</td>\n",
              "      <td>0.0</td>\n",
              "      <td>0.0</td>\n",
              "      <td>0.0</td>\n",
              "      <td>0.0</td>\n",
              "      <td>0.0</td>\n",
              "      <td>0.285645</td>\n",
              "      <td>0.214233</td>\n",
              "      <td>0.333333</td>\n",
              "      <td>0.535645</td>\n",
              "      <td>0.428467</td>\n",
              "      <td>0.428467</td>\n",
              "      <td>0.144165</td>\n",
              "      <td>2</td>\n",
              "      <td>1</td>\n",
              "      <td>3</td>\n",
              "      <td>1</td>\n",
              "      <td>0</td>\n",
              "      <td>0</td>\n",
              "      <td>2.970703</td>\n",
              "    </tr>\n",
              "    <tr>\n",
              "      <th>57473653</th>\n",
              "      <td>3</td>\n",
              "      <td>3</td>\n",
              "      <td>0</td>\n",
              "      <td>0</td>\n",
              "      <td>0</td>\n",
              "      <td>1</td>\n",
              "      <td>0</td>\n",
              "      <td>0</td>\n",
              "      <td>6.0</td>\n",
              "      <td>4.0</td>\n",
              "      <td>3.0</td>\n",
              "      <td>3.0</td>\n",
              "      <td>0.0</td>\n",
              "      <td>2.0</td>\n",
              "      <td>0.0</td>\n",
              "      <td>4.0</td>\n",
              "      <td>1.0</td>\n",
              "      <td>2.0</td>\n",
              "      <td>4.0</td>\n",
              "      <td>3.000000</td>\n",
              "      <td>2.572266</td>\n",
              "      <td>2.047619</td>\n",
              "      <td>1.892578</td>\n",
              "      <td>1.885742</td>\n",
              "      <td>1.880859</td>\n",
              "      <td>1.716797</td>\n",
              "      <td>2</td>\n",
              "      <td>1</td>\n",
              "      <td>3</td>\n",
              "      <td>1</td>\n",
              "      <td>0</td>\n",
              "      <td>0</td>\n",
              "      <td>4.640625</td>\n",
              "    </tr>\n",
              "    <tr>\n",
              "      <th>57473654</th>\n",
              "      <td>3</td>\n",
              "      <td>3</td>\n",
              "      <td>0</td>\n",
              "      <td>0</td>\n",
              "      <td>0</td>\n",
              "      <td>1</td>\n",
              "      <td>0</td>\n",
              "      <td>0</td>\n",
              "      <td>0.0</td>\n",
              "      <td>2.0</td>\n",
              "      <td>2.0</td>\n",
              "      <td>2.0</td>\n",
              "      <td>1.0</td>\n",
              "      <td>0.0</td>\n",
              "      <td>2.0</td>\n",
              "      <td>1.0</td>\n",
              "      <td>0.0</td>\n",
              "      <td>0.0</td>\n",
              "      <td>0.0</td>\n",
              "      <td>0.714355</td>\n",
              "      <td>1.142578</td>\n",
              "      <td>1.190476</td>\n",
              "      <td>1.107422</td>\n",
              "      <td>1.085938</td>\n",
              "      <td>1.047852</td>\n",
              "      <td>0.960938</td>\n",
              "      <td>2</td>\n",
              "      <td>1</td>\n",
              "      <td>3</td>\n",
              "      <td>1</td>\n",
              "      <td>0</td>\n",
              "      <td>0</td>\n",
              "      <td>2.880859</td>\n",
              "    </tr>\n",
              "  </tbody>\n",
              "</table>\n",
              "</div>"
            ],
            "text/plain": [
              "          wday  month  snap_CA  ...  store_id_  state_id_     price\n",
              "57473650     3      3        0  ...          0          0  8.257812\n",
              "57473651     3      3        0  ...          0          0  3.970703\n",
              "57473652     3      3        0  ...          0          0  2.970703\n",
              "57473653     3      3        0  ...          0          0  4.640625\n",
              "57473654     3      3        0  ...          0          0  2.880859\n",
              "\n",
              "[5 rows x 33 columns]"
            ]
          },
          "metadata": {
            "tags": []
          },
          "execution_count": 15
        }
      ]
    },
    {
      "cell_type": "code",
      "metadata": {
        "colab": {
          "base_uri": "https://localhost:8080/",
          "height": 223
        },
        "id": "MCohnsj77jTg",
        "outputId": "89b0cf4d-273c-43e7-ccc0-cec4638f6f27"
      },
      "source": [
        "x_test.head()"
      ],
      "execution_count": null,
      "outputs": [
        {
          "output_type": "execute_result",
          "data": {
            "text/html": [
              "<div>\n",
              "<style scoped>\n",
              "    .dataframe tbody tr th:only-of-type {\n",
              "        vertical-align: middle;\n",
              "    }\n",
              "\n",
              "    .dataframe tbody tr th {\n",
              "        vertical-align: top;\n",
              "    }\n",
              "\n",
              "    .dataframe thead th {\n",
              "        text-align: right;\n",
              "    }\n",
              "</style>\n",
              "<table border=\"1\" class=\"dataframe\">\n",
              "  <thead>\n",
              "    <tr style=\"text-align: right;\">\n",
              "      <th></th>\n",
              "      <th>wday</th>\n",
              "      <th>month</th>\n",
              "      <th>snap_CA</th>\n",
              "      <th>snap_TX</th>\n",
              "      <th>snap_WI</th>\n",
              "      <th>is_high_sale_months</th>\n",
              "      <th>is_high_sale_day</th>\n",
              "      <th>is_christmas</th>\n",
              "      <th>lag_1</th>\n",
              "      <th>lag_7</th>\n",
              "      <th>lag_14</th>\n",
              "      <th>lag_21</th>\n",
              "      <th>lag_28</th>\n",
              "      <th>lag_35</th>\n",
              "      <th>lag_42</th>\n",
              "      <th>lag_49</th>\n",
              "      <th>lag_56</th>\n",
              "      <th>lag_63</th>\n",
              "      <th>lag_70</th>\n",
              "      <th>rolling_mean_7</th>\n",
              "      <th>rolling_mean_14</th>\n",
              "      <th>rolling_mean_21</th>\n",
              "      <th>rolling_mean_28</th>\n",
              "      <th>rolling_mean_35</th>\n",
              "      <th>rolling_mean_42</th>\n",
              "      <th>expanding_mean</th>\n",
              "      <th>event_type_1_</th>\n",
              "      <th>event_type_2_</th>\n",
              "      <th>dept_id_</th>\n",
              "      <th>cat_id_</th>\n",
              "      <th>store_id_</th>\n",
              "      <th>state_id_</th>\n",
              "      <th>price</th>\n",
              "    </tr>\n",
              "  </thead>\n",
              "  <tbody>\n",
              "    <tr>\n",
              "      <th>58327370</th>\n",
              "      <td>3</td>\n",
              "      <td>4</td>\n",
              "      <td>0</td>\n",
              "      <td>0</td>\n",
              "      <td>0</td>\n",
              "      <td>1</td>\n",
              "      <td>0</td>\n",
              "      <td>0</td>\n",
              "      <td>1.0</td>\n",
              "      <td>1.0</td>\n",
              "      <td>0.0</td>\n",
              "      <td>0.0</td>\n",
              "      <td>1.0</td>\n",
              "      <td>1.0</td>\n",
              "      <td>0.0</td>\n",
              "      <td>0.0</td>\n",
              "      <td>0.0</td>\n",
              "      <td>4.0</td>\n",
              "      <td>0.0</td>\n",
              "      <td>1.000000</td>\n",
              "      <td>0.928711</td>\n",
              "      <td>1.190476</td>\n",
              "      <td>0.928711</td>\n",
              "      <td>0.971191</td>\n",
              "      <td>1.071289</td>\n",
              "      <td>0.313477</td>\n",
              "      <td>2</td>\n",
              "      <td>1</td>\n",
              "      <td>3</td>\n",
              "      <td>1</td>\n",
              "      <td>0</td>\n",
              "      <td>0</td>\n",
              "      <td>8.382812</td>\n",
              "    </tr>\n",
              "    <tr>\n",
              "      <th>58327371</th>\n",
              "      <td>3</td>\n",
              "      <td>4</td>\n",
              "      <td>0</td>\n",
              "      <td>0</td>\n",
              "      <td>0</td>\n",
              "      <td>1</td>\n",
              "      <td>0</td>\n",
              "      <td>0</td>\n",
              "      <td>0.0</td>\n",
              "      <td>0.0</td>\n",
              "      <td>0.0</td>\n",
              "      <td>0.0</td>\n",
              "      <td>1.0</td>\n",
              "      <td>0.0</td>\n",
              "      <td>0.0</td>\n",
              "      <td>1.0</td>\n",
              "      <td>0.0</td>\n",
              "      <td>0.0</td>\n",
              "      <td>0.0</td>\n",
              "      <td>0.142822</td>\n",
              "      <td>0.071411</td>\n",
              "      <td>0.047619</td>\n",
              "      <td>0.035706</td>\n",
              "      <td>0.171387</td>\n",
              "      <td>0.142822</td>\n",
              "      <td>0.257568</td>\n",
              "      <td>2</td>\n",
              "      <td>1</td>\n",
              "      <td>3</td>\n",
              "      <td>1</td>\n",
              "      <td>0</td>\n",
              "      <td>0</td>\n",
              "      <td>3.970703</td>\n",
              "    </tr>\n",
              "    <tr>\n",
              "      <th>58327372</th>\n",
              "      <td>3</td>\n",
              "      <td>4</td>\n",
              "      <td>0</td>\n",
              "      <td>0</td>\n",
              "      <td>0</td>\n",
              "      <td>1</td>\n",
              "      <td>0</td>\n",
              "      <td>0</td>\n",
              "      <td>1.0</td>\n",
              "      <td>1.0</td>\n",
              "      <td>0.0</td>\n",
              "      <td>0.0</td>\n",
              "      <td>0.0</td>\n",
              "      <td>0.0</td>\n",
              "      <td>0.0</td>\n",
              "      <td>1.0</td>\n",
              "      <td>0.0</td>\n",
              "      <td>0.0</td>\n",
              "      <td>0.0</td>\n",
              "      <td>0.714355</td>\n",
              "      <td>1.000000</td>\n",
              "      <td>0.714286</td>\n",
              "      <td>0.571289</td>\n",
              "      <td>0.514160</td>\n",
              "      <td>0.452393</td>\n",
              "      <td>0.150513</td>\n",
              "      <td>2</td>\n",
              "      <td>1</td>\n",
              "      <td>3</td>\n",
              "      <td>1</td>\n",
              "      <td>0</td>\n",
              "      <td>0</td>\n",
              "      <td>2.970703</td>\n",
              "    </tr>\n",
              "    <tr>\n",
              "      <th>58327373</th>\n",
              "      <td>3</td>\n",
              "      <td>4</td>\n",
              "      <td>0</td>\n",
              "      <td>0</td>\n",
              "      <td>0</td>\n",
              "      <td>1</td>\n",
              "      <td>0</td>\n",
              "      <td>0</td>\n",
              "      <td>2.0</td>\n",
              "      <td>4.0</td>\n",
              "      <td>2.0</td>\n",
              "      <td>1.0</td>\n",
              "      <td>0.0</td>\n",
              "      <td>4.0</td>\n",
              "      <td>3.0</td>\n",
              "      <td>3.0</td>\n",
              "      <td>0.0</td>\n",
              "      <td>2.0</td>\n",
              "      <td>0.0</td>\n",
              "      <td>2.000000</td>\n",
              "      <td>1.928711</td>\n",
              "      <td>2.095238</td>\n",
              "      <td>1.821289</td>\n",
              "      <td>2.056641</td>\n",
              "      <td>2.072266</td>\n",
              "      <td>1.717773</td>\n",
              "      <td>2</td>\n",
              "      <td>1</td>\n",
              "      <td>3</td>\n",
              "      <td>1</td>\n",
              "      <td>0</td>\n",
              "      <td>0</td>\n",
              "      <td>4.640625</td>\n",
              "    </tr>\n",
              "    <tr>\n",
              "      <th>58327374</th>\n",
              "      <td>3</td>\n",
              "      <td>4</td>\n",
              "      <td>0</td>\n",
              "      <td>0</td>\n",
              "      <td>0</td>\n",
              "      <td>1</td>\n",
              "      <td>0</td>\n",
              "      <td>0</td>\n",
              "      <td>4.0</td>\n",
              "      <td>0.0</td>\n",
              "      <td>2.0</td>\n",
              "      <td>0.0</td>\n",
              "      <td>1.0</td>\n",
              "      <td>2.0</td>\n",
              "      <td>2.0</td>\n",
              "      <td>2.0</td>\n",
              "      <td>1.0</td>\n",
              "      <td>0.0</td>\n",
              "      <td>2.0</td>\n",
              "      <td>1.857422</td>\n",
              "      <td>1.357422</td>\n",
              "      <td>1.190476</td>\n",
              "      <td>1.357422</td>\n",
              "      <td>1.228516</td>\n",
              "      <td>1.286133</td>\n",
              "      <td>0.966797</td>\n",
              "      <td>2</td>\n",
              "      <td>1</td>\n",
              "      <td>3</td>\n",
              "      <td>1</td>\n",
              "      <td>0</td>\n",
              "      <td>0</td>\n",
              "      <td>2.880859</td>\n",
              "    </tr>\n",
              "  </tbody>\n",
              "</table>\n",
              "</div>"
            ],
            "text/plain": [
              "          wday  month  snap_CA  ...  store_id_  state_id_     price\n",
              "58327370     3      4        0  ...          0          0  8.382812\n",
              "58327371     3      4        0  ...          0          0  3.970703\n",
              "58327372     3      4        0  ...          0          0  2.970703\n",
              "58327373     3      4        0  ...          0          0  4.640625\n",
              "58327374     3      4        0  ...          0          0  2.880859\n",
              "\n",
              "[5 rows x 33 columns]"
            ]
          },
          "metadata": {
            "tags": []
          },
          "execution_count": 16
        }
      ]
    },
    {
      "cell_type": "code",
      "metadata": {
        "id": "F9w5_slo7v6n"
      },
      "source": [
        "y_train=y.loc[(x['day']>=916)&(y['day']<=1885)]\n",
        "y_CV=y.loc[(y['day']>1885) &(y['day']<1914)]\n",
        "y_test=y.loc[y['day']>=1914]"
      ],
      "execution_count": null,
      "outputs": []
    },
    {
      "cell_type": "code",
      "metadata": {
        "colab": {
          "base_uri": "https://localhost:8080/"
        },
        "id": "oUjBDeo48wEm",
        "outputId": "e69d09e9-ddac-47cf-b605-a12773ee035c"
      },
      "source": [
        "print(\"y_train {}\".format(y_train.shape))\n",
        "print(\"y_CV {}\".format(y_CV.shape))\n",
        "print(\"y_test {}\".format(y_test.shape))"
      ],
      "execution_count": null,
      "outputs": [
        {
          "output_type": "stream",
          "text": [
            "y_train (29575300, 2)\n",
            "y_CV (853720, 2)\n",
            "y_test (853720, 2)\n"
          ],
          "name": "stdout"
        }
      ]
    },
    {
      "cell_type": "code",
      "metadata": {
        "id": "8OFQ7xPs8wEn"
      },
      "source": [
        "y_train.drop(columns=['day'],inplace=True)\n",
        "y_CV.drop(columns=['day'],inplace=True)\n",
        "y_test=y_test.drop(columns=['day'])"
      ],
      "execution_count": null,
      "outputs": []
    },
    {
      "cell_type": "code",
      "metadata": {
        "colab": {
          "base_uri": "https://localhost:8080/",
          "height": 203
        },
        "id": "Sn9VK8rb-BJK",
        "outputId": "ad5a9761-174b-434e-9539-bf9b28aace42"
      },
      "source": [
        "y_train.head()"
      ],
      "execution_count": null,
      "outputs": [
        {
          "output_type": "execute_result",
          "data": {
            "text/html": [
              "<div>\n",
              "<style scoped>\n",
              "    .dataframe tbody tr th:only-of-type {\n",
              "        vertical-align: middle;\n",
              "    }\n",
              "\n",
              "    .dataframe tbody tr th {\n",
              "        vertical-align: top;\n",
              "    }\n",
              "\n",
              "    .dataframe thead th {\n",
              "        text-align: right;\n",
              "    }\n",
              "</style>\n",
              "<table border=\"1\" class=\"dataframe\">\n",
              "  <thead>\n",
              "    <tr style=\"text-align: right;\">\n",
              "      <th></th>\n",
              "      <th>sold</th>\n",
              "    </tr>\n",
              "  </thead>\n",
              "  <tbody>\n",
              "    <tr>\n",
              "      <th>27898350</th>\n",
              "      <td>0</td>\n",
              "    </tr>\n",
              "    <tr>\n",
              "      <th>27898351</th>\n",
              "      <td>0</td>\n",
              "    </tr>\n",
              "    <tr>\n",
              "      <th>27898352</th>\n",
              "      <td>0</td>\n",
              "    </tr>\n",
              "    <tr>\n",
              "      <th>27898353</th>\n",
              "      <td>3</td>\n",
              "    </tr>\n",
              "    <tr>\n",
              "      <th>27898354</th>\n",
              "      <td>1</td>\n",
              "    </tr>\n",
              "  </tbody>\n",
              "</table>\n",
              "</div>"
            ],
            "text/plain": [
              "          sold\n",
              "27898350     0\n",
              "27898351     0\n",
              "27898352     0\n",
              "27898353     3\n",
              "27898354     1"
            ]
          },
          "metadata": {
            "tags": []
          },
          "execution_count": 20
        }
      ]
    },
    {
      "cell_type": "code",
      "metadata": {
        "colab": {
          "base_uri": "https://localhost:8080/",
          "height": 203
        },
        "id": "5kd0Z1UT-BJK",
        "outputId": "604abdce-e6b6-40ce-a478-9ae799921e4a"
      },
      "source": [
        "y_CV.head()"
      ],
      "execution_count": null,
      "outputs": [
        {
          "output_type": "execute_result",
          "data": {
            "text/html": [
              "<div>\n",
              "<style scoped>\n",
              "    .dataframe tbody tr th:only-of-type {\n",
              "        vertical-align: middle;\n",
              "    }\n",
              "\n",
              "    .dataframe tbody tr th {\n",
              "        vertical-align: top;\n",
              "    }\n",
              "\n",
              "    .dataframe thead th {\n",
              "        text-align: right;\n",
              "    }\n",
              "</style>\n",
              "<table border=\"1\" class=\"dataframe\">\n",
              "  <thead>\n",
              "    <tr style=\"text-align: right;\">\n",
              "      <th></th>\n",
              "      <th>sold</th>\n",
              "    </tr>\n",
              "  </thead>\n",
              "  <tbody>\n",
              "    <tr>\n",
              "      <th>57473650</th>\n",
              "      <td>1</td>\n",
              "    </tr>\n",
              "    <tr>\n",
              "      <th>57473651</th>\n",
              "      <td>1</td>\n",
              "    </tr>\n",
              "    <tr>\n",
              "      <th>57473652</th>\n",
              "      <td>0</td>\n",
              "    </tr>\n",
              "    <tr>\n",
              "      <th>57473653</th>\n",
              "      <td>0</td>\n",
              "    </tr>\n",
              "    <tr>\n",
              "      <th>57473654</th>\n",
              "      <td>1</td>\n",
              "    </tr>\n",
              "  </tbody>\n",
              "</table>\n",
              "</div>"
            ],
            "text/plain": [
              "          sold\n",
              "57473650     1\n",
              "57473651     1\n",
              "57473652     0\n",
              "57473653     0\n",
              "57473654     1"
            ]
          },
          "metadata": {
            "tags": []
          },
          "execution_count": 21
        }
      ]
    },
    {
      "cell_type": "code",
      "metadata": {
        "colab": {
          "base_uri": "https://localhost:8080/",
          "height": 203
        },
        "id": "1AERqR4N-BJL",
        "outputId": "40694b6c-5a2d-4cdf-9bf2-b9eb81810c73"
      },
      "source": [
        "y_test.head()"
      ],
      "execution_count": null,
      "outputs": [
        {
          "output_type": "execute_result",
          "data": {
            "text/html": [
              "<div>\n",
              "<style scoped>\n",
              "    .dataframe tbody tr th:only-of-type {\n",
              "        vertical-align: middle;\n",
              "    }\n",
              "\n",
              "    .dataframe tbody tr th {\n",
              "        vertical-align: top;\n",
              "    }\n",
              "\n",
              "    .dataframe thead th {\n",
              "        text-align: right;\n",
              "    }\n",
              "</style>\n",
              "<table border=\"1\" class=\"dataframe\">\n",
              "  <thead>\n",
              "    <tr style=\"text-align: right;\">\n",
              "      <th></th>\n",
              "      <th>sold</th>\n",
              "    </tr>\n",
              "  </thead>\n",
              "  <tbody>\n",
              "    <tr>\n",
              "      <th>58327370</th>\n",
              "      <td>0</td>\n",
              "    </tr>\n",
              "    <tr>\n",
              "      <th>58327371</th>\n",
              "      <td>0</td>\n",
              "    </tr>\n",
              "    <tr>\n",
              "      <th>58327372</th>\n",
              "      <td>0</td>\n",
              "    </tr>\n",
              "    <tr>\n",
              "      <th>58327373</th>\n",
              "      <td>0</td>\n",
              "    </tr>\n",
              "    <tr>\n",
              "      <th>58327374</th>\n",
              "      <td>1</td>\n",
              "    </tr>\n",
              "  </tbody>\n",
              "</table>\n",
              "</div>"
            ],
            "text/plain": [
              "          sold\n",
              "58327370     0\n",
              "58327371     0\n",
              "58327372     0\n",
              "58327373     0\n",
              "58327374     1"
            ]
          },
          "metadata": {
            "tags": []
          },
          "execution_count": 22
        }
      ]
    },
    {
      "cell_type": "code",
      "metadata": {
        "id": "HNib3hIr8wEo"
      },
      "source": [
        "# with open(r'train_CV_test_data_x_y_id.pkl','wb') as f:\n",
        "#     pickle.dump([x_train,x_CV,x_test,y_train,y_CV,y_test,id],f)"
      ],
      "execution_count": null,
      "outputs": []
    },
    {
      "cell_type": "code",
      "metadata": {
        "colab": {
          "base_uri": "https://localhost:8080/",
          "height": 35
        },
        "id": "uZ9un5nY7C8i",
        "outputId": "ed0cd470-db62-4373-8f91-60ccc630eb92"
      },
      "source": [
        "import shutil\n",
        "# original = r'original path where the file is currently stored\\file name.file extension'\n",
        "# target = r'target path where the file will be copied\\file name.file extension'\n",
        "original=r'/content/train_CV_test_data_x_y_id.pkl'\n",
        "target=r'/content/drive/MyDrive/Project Files/train_CV_test_data_x_y_id.pkl'\n",
        "shutil.copyfile(original,target)"
      ],
      "execution_count": null,
      "outputs": [
        {
          "output_type": "execute_result",
          "data": {
            "application/vnd.google.colaboratory.intrinsic+json": {
              "type": "string"
            },
            "text/plain": [
              "'/content/drive/MyDrive/Project Files/train_CV_test_data_x_y_id.pkl'"
            ]
          },
          "metadata": {
            "tags": []
          },
          "execution_count": 24
        }
      ]
    },
    {
      "cell_type": "code",
      "metadata": {
        "id": "0yp-MHpc8wEo"
      },
      "source": [
        "with open(r'train_CV_test_data_x_y_id.pkl', 'rb') as f:\n",
        "    x_train,x_CV,x_test,y_train,y_CV,y_test,id= pickle.load(f)"
      ],
      "execution_count": null,
      "outputs": []
    },
    {
      "cell_type": "code",
      "metadata": {
        "id": "i42ClfdeO4Gx"
      },
      "source": [
        "with open(r'/content/drive/MyDrive/Project Files/train_CV_test_data_x_y_id.pkl', 'rb') as f:\n",
        "    x_train,x_CV,x_test,y_train,y_CV,y_test,id= pickle.load(f)"
      ],
      "execution_count": null,
      "outputs": []
    },
    {
      "cell_type": "markdown",
      "metadata": {
        "id": "QH_64S6aA9uZ"
      },
      "source": [
        "# Modeling Starts."
      ]
    },
    {
      "cell_type": "markdown",
      "metadata": {
        "id": "vQHWHYIOBGVE"
      },
      "source": [
        "## 1. linear regression with L2 regularization"
      ]
    },
    {
      "cell_type": "markdown",
      "metadata": {
        "id": "AhMj_wGzCIwc"
      },
      "source": [
        "* Hyperparameter tunning to fing best value of lambda."
      ]
    },
    {
      "cell_type": "code",
      "metadata": {
        "id": "DG2EA0dTaFGL"
      },
      "source": [
        "def GridSearch(x_train,y_train,x_CV,y_CV,parameter):\n",
        "  train_scores = []\n",
        "  CV_scores = [] \n",
        "  for k in tqdm(parameter):\n",
        "    clf=SGDRegressor(alpha=k,loss='squared_loss', penalty='l2',max_iter=1000, tol=1e-3)\n",
        "    clf.fit(x_train,y_train)\n",
        "    ## predicting CV data\n",
        "    y_predict=clf.predict(x_CV)\n",
        "    RMSE=mean_squared_error(y_CV, y_predict, squared=False)\n",
        "    CV_scores.append(RMSE)\n",
        "    ## predicting training data\n",
        "    y_predict_=clf.predict(x_train)\n",
        "    RMSE_=mean_squared_error(y_train, y_predict_, squared=False)\n",
        "    train_scores.append(RMSE_)\n",
        "  return train_scores,CV_scores"
      ],
      "execution_count": null,
      "outputs": []
    },
    {
      "cell_type": "code",
      "metadata": {
        "id": "gg1PuysBfc0u"
      },
      "source": [
        "parameter=[0.001,0.01,0.1,1,10,100]"
      ],
      "execution_count": null,
      "outputs": []
    },
    {
      "cell_type": "code",
      "metadata": {
        "colab": {
          "base_uri": "https://localhost:8080/"
        },
        "id": "li45Mvp-dt6C",
        "outputId": "a3dc874d-20a9-4167-c031-6b64066e2512"
      },
      "source": [
        "train_scores,CV_scores=GridSearch(x_train,y_train,x_CV,y_CV,parameter)"
      ],
      "execution_count": null,
      "outputs": [
        {
          "output_type": "stream",
          "text": [
            "100%|██████████| 6/6 [29:46<00:00, 297.73s/it]\n"
          ],
          "name": "stderr"
        }
      ]
    },
    {
      "cell_type": "code",
      "metadata": {
        "id": "ow_pCtF8frRm",
        "colab": {
          "base_uri": "https://localhost:8080/"
        },
        "outputId": "638792ee-71d7-4a08-b2ba-4cbd3b3cffc2"
      },
      "source": [
        "print('train_scores:',train_scores)\n",
        "print('CV_scores:',CV_scores)"
      ],
      "execution_count": null,
      "outputs": [
        {
          "output_type": "stream",
          "text": [
            "train_scores: [2.9949492964529365, 9.05965054399496, 2.216497821482032, 3.8963672538078944, 2.3537723610654586, 2.3612940456944256]\n",
            "CV_scores: [2.915261676945502, 8.96780245422439, 2.0626184109161505, 3.766895490107167, 2.1219695888781542, 2.1445089212395256]\n"
          ],
          "name": "stdout"
        }
      ]
    },
    {
      "cell_type": "code",
      "metadata": {
        "colab": {
          "base_uri": "https://localhost:8080/",
          "height": 234
        },
        "id": "ypSsIxBKzROB",
        "outputId": "603da9ea-d8b4-4d53-8b1d-2c3b7c1f2c92"
      },
      "source": [
        "temp=pd.DataFrame({'parameter':parameter,'train_scores':train_scores,'CV_scores':CV_scores})\n",
        "temp"
      ],
      "execution_count": null,
      "outputs": [
        {
          "output_type": "execute_result",
          "data": {
            "text/html": [
              "<div>\n",
              "<style scoped>\n",
              "    .dataframe tbody tr th:only-of-type {\n",
              "        vertical-align: middle;\n",
              "    }\n",
              "\n",
              "    .dataframe tbody tr th {\n",
              "        vertical-align: top;\n",
              "    }\n",
              "\n",
              "    .dataframe thead th {\n",
              "        text-align: right;\n",
              "    }\n",
              "</style>\n",
              "<table border=\"1\" class=\"dataframe\">\n",
              "  <thead>\n",
              "    <tr style=\"text-align: right;\">\n",
              "      <th></th>\n",
              "      <th>parameter</th>\n",
              "      <th>train_scores</th>\n",
              "      <th>CV_scores</th>\n",
              "    </tr>\n",
              "  </thead>\n",
              "  <tbody>\n",
              "    <tr>\n",
              "      <th>0</th>\n",
              "      <td>0.001</td>\n",
              "      <td>2.994949</td>\n",
              "      <td>2.915262</td>\n",
              "    </tr>\n",
              "    <tr>\n",
              "      <th>1</th>\n",
              "      <td>0.010</td>\n",
              "      <td>9.059651</td>\n",
              "      <td>8.967802</td>\n",
              "    </tr>\n",
              "    <tr>\n",
              "      <th>2</th>\n",
              "      <td>0.100</td>\n",
              "      <td>2.216498</td>\n",
              "      <td>2.062618</td>\n",
              "    </tr>\n",
              "    <tr>\n",
              "      <th>3</th>\n",
              "      <td>1.000</td>\n",
              "      <td>3.896367</td>\n",
              "      <td>3.766895</td>\n",
              "    </tr>\n",
              "    <tr>\n",
              "      <th>4</th>\n",
              "      <td>10.000</td>\n",
              "      <td>2.353772</td>\n",
              "      <td>2.121970</td>\n",
              "    </tr>\n",
              "    <tr>\n",
              "      <th>5</th>\n",
              "      <td>100.000</td>\n",
              "      <td>2.361294</td>\n",
              "      <td>2.144509</td>\n",
              "    </tr>\n",
              "  </tbody>\n",
              "</table>\n",
              "</div>"
            ],
            "text/plain": [
              "   parameter  train_scores  CV_scores\n",
              "0      0.001      2.994949   2.915262\n",
              "1      0.010      9.059651   8.967802\n",
              "2      0.100      2.216498   2.062618\n",
              "3      1.000      3.896367   3.766895\n",
              "4     10.000      2.353772   2.121970\n",
              "5    100.000      2.361294   2.144509"
            ]
          },
          "metadata": {
            "tags": []
          },
          "execution_count": 39
        }
      ]
    },
    {
      "cell_type": "code",
      "metadata": {
        "colab": {
          "base_uri": "https://localhost:8080/",
          "height": 617
        },
        "id": "f-33wTvg3g32",
        "outputId": "d14dc336-5afb-4ea8-8e68-13046d783087"
      },
      "source": [
        "#refrences:https://stackoverflow.com/questions/62287001/how-to-overlay-two-plots-in-same-figure-in-plotly-create-pareto-chart-in-plotl\n",
        "import plotly.graph_objects as go\n",
        "from plotly.subplots import make_subplots\n",
        "from plotly.offline import plot, iplot, init_notebook_mode\n",
        "\n",
        "trace1 = go.Scatter(\n",
        "    x=temp['parameter'],\n",
        "    y=temp['train_scores'],\n",
        "    name='train_scores',\n",
        "    yaxis='y2'\n",
        ")\n",
        "trace2 = go.Scatter(\n",
        "    x=temp['parameter'],\n",
        "    y=temp['CV_scores'],\n",
        "    name='CV_scores',\n",
        "    yaxis='y2'\n",
        ")\n",
        "fig = make_subplots(specs=[[{\"secondary_y\": True}]])\n",
        "fig.add_trace(trace1)\n",
        "fig.update_xaxes(rangeslider_visible=True)\n",
        "fig.add_trace(trace2,secondary_y=True)\n",
        "fig['layout'].update(height = 600, width = 800, title = 'Hyperparameter tunning',xaxis=dict(\n",
        "      tickangle=-90\n",
        "    ))\n",
        "iplot(fig)"
      ],
      "execution_count": null,
      "outputs": [
        {
          "output_type": "display_data",
          "data": {
            "text/html": [
              "<html>\n",
              "<head><meta charset=\"utf-8\" /></head>\n",
              "<body>\n",
              "    <div>\n",
              "            <script src=\"https://cdnjs.cloudflare.com/ajax/libs/mathjax/2.7.5/MathJax.js?config=TeX-AMS-MML_SVG\"></script><script type=\"text/javascript\">if (window.MathJax) {MathJax.Hub.Config({SVG: {font: \"STIX-Web\"}});}</script>\n",
              "                <script type=\"text/javascript\">window.PlotlyConfig = {MathJaxConfig: 'local'};</script>\n",
              "        <script src=\"https://cdn.plot.ly/plotly-latest.min.js\"></script>    \n",
              "            <div id=\"33d41ef8-eff1-41b4-969b-eea9641f1370\" class=\"plotly-graph-div\" style=\"height:600px; width:800px;\"></div>\n",
              "            <script type=\"text/javascript\">\n",
              "                \n",
              "                    window.PLOTLYENV=window.PLOTLYENV || {};\n",
              "                    \n",
              "                if (document.getElementById(\"33d41ef8-eff1-41b4-969b-eea9641f1370\")) {\n",
              "                    Plotly.newPlot(\n",
              "                        '33d41ef8-eff1-41b4-969b-eea9641f1370',\n",
              "                        [{\"name\": \"train_scores\", \"type\": \"scatter\", \"x\": [0.001, 0.01, 0.1, 1.0, 10.0, 100.0], \"y\": [2.9949492964529365, 9.05965054399496, 2.216497821482032, 3.8963672538078944, 2.3537723610654586, 2.3612940456944256], \"yaxis\": \"y2\"}, {\"name\": \"CV_scores\", \"type\": \"scatter\", \"x\": [0.001, 0.01, 0.1, 1.0, 10.0, 100.0], \"xaxis\": \"x\", \"y\": [2.915261676945502, 8.96780245422439, 2.0626184109161505, 3.766895490107167, 2.1219695888781542, 2.1445089212395256], \"yaxis\": \"y2\"}],\n",
              "                        {\"height\": 600, \"template\": {\"data\": {\"bar\": [{\"error_x\": {\"color\": \"#2a3f5f\"}, \"error_y\": {\"color\": \"#2a3f5f\"}, \"marker\": {\"line\": {\"color\": \"#E5ECF6\", \"width\": 0.5}}, \"type\": \"bar\"}], \"barpolar\": [{\"marker\": {\"line\": {\"color\": \"#E5ECF6\", \"width\": 0.5}}, \"type\": \"barpolar\"}], \"carpet\": [{\"aaxis\": {\"endlinecolor\": \"#2a3f5f\", \"gridcolor\": \"white\", \"linecolor\": \"white\", \"minorgridcolor\": \"white\", \"startlinecolor\": \"#2a3f5f\"}, \"baxis\": {\"endlinecolor\": \"#2a3f5f\", \"gridcolor\": \"white\", \"linecolor\": \"white\", \"minorgridcolor\": \"white\", \"startlinecolor\": \"#2a3f5f\"}, \"type\": \"carpet\"}], \"choropleth\": [{\"colorbar\": {\"outlinewidth\": 0, \"ticks\": \"\"}, \"type\": \"choropleth\"}], \"contour\": [{\"colorbar\": {\"outlinewidth\": 0, \"ticks\": \"\"}, \"colorscale\": [[0.0, \"#0d0887\"], [0.1111111111111111, \"#46039f\"], [0.2222222222222222, \"#7201a8\"], [0.3333333333333333, \"#9c179e\"], [0.4444444444444444, \"#bd3786\"], [0.5555555555555556, \"#d8576b\"], [0.6666666666666666, \"#ed7953\"], [0.7777777777777778, \"#fb9f3a\"], [0.8888888888888888, \"#fdca26\"], [1.0, \"#f0f921\"]], \"type\": \"contour\"}], \"contourcarpet\": [{\"colorbar\": {\"outlinewidth\": 0, \"ticks\": \"\"}, \"type\": \"contourcarpet\"}], \"heatmap\": [{\"colorbar\": {\"outlinewidth\": 0, \"ticks\": \"\"}, \"colorscale\": [[0.0, \"#0d0887\"], [0.1111111111111111, \"#46039f\"], [0.2222222222222222, \"#7201a8\"], [0.3333333333333333, \"#9c179e\"], [0.4444444444444444, \"#bd3786\"], [0.5555555555555556, \"#d8576b\"], [0.6666666666666666, \"#ed7953\"], [0.7777777777777778, \"#fb9f3a\"], [0.8888888888888888, \"#fdca26\"], [1.0, \"#f0f921\"]], \"type\": \"heatmap\"}], \"heatmapgl\": [{\"colorbar\": {\"outlinewidth\": 0, \"ticks\": \"\"}, \"colorscale\": [[0.0, \"#0d0887\"], [0.1111111111111111, \"#46039f\"], [0.2222222222222222, \"#7201a8\"], [0.3333333333333333, \"#9c179e\"], [0.4444444444444444, \"#bd3786\"], [0.5555555555555556, \"#d8576b\"], [0.6666666666666666, \"#ed7953\"], [0.7777777777777778, \"#fb9f3a\"], [0.8888888888888888, \"#fdca26\"], [1.0, \"#f0f921\"]], \"type\": \"heatmapgl\"}], \"histogram\": [{\"marker\": {\"colorbar\": {\"outlinewidth\": 0, \"ticks\": \"\"}}, \"type\": \"histogram\"}], \"histogram2d\": [{\"colorbar\": {\"outlinewidth\": 0, \"ticks\": \"\"}, \"colorscale\": [[0.0, \"#0d0887\"], [0.1111111111111111, \"#46039f\"], [0.2222222222222222, \"#7201a8\"], [0.3333333333333333, \"#9c179e\"], [0.4444444444444444, \"#bd3786\"], [0.5555555555555556, \"#d8576b\"], [0.6666666666666666, \"#ed7953\"], [0.7777777777777778, \"#fb9f3a\"], [0.8888888888888888, \"#fdca26\"], [1.0, \"#f0f921\"]], \"type\": \"histogram2d\"}], \"histogram2dcontour\": [{\"colorbar\": {\"outlinewidth\": 0, \"ticks\": \"\"}, \"colorscale\": [[0.0, \"#0d0887\"], [0.1111111111111111, \"#46039f\"], [0.2222222222222222, \"#7201a8\"], [0.3333333333333333, \"#9c179e\"], [0.4444444444444444, \"#bd3786\"], [0.5555555555555556, \"#d8576b\"], [0.6666666666666666, \"#ed7953\"], [0.7777777777777778, \"#fb9f3a\"], [0.8888888888888888, \"#fdca26\"], [1.0, \"#f0f921\"]], \"type\": \"histogram2dcontour\"}], \"mesh3d\": [{\"colorbar\": {\"outlinewidth\": 0, \"ticks\": \"\"}, \"type\": \"mesh3d\"}], \"parcoords\": [{\"line\": {\"colorbar\": {\"outlinewidth\": 0, \"ticks\": \"\"}}, \"type\": \"parcoords\"}], \"pie\": [{\"automargin\": true, \"type\": \"pie\"}], \"scatter\": [{\"marker\": {\"colorbar\": {\"outlinewidth\": 0, \"ticks\": \"\"}}, \"type\": \"scatter\"}], \"scatter3d\": [{\"line\": {\"colorbar\": {\"outlinewidth\": 0, \"ticks\": \"\"}}, \"marker\": {\"colorbar\": {\"outlinewidth\": 0, \"ticks\": \"\"}}, \"type\": \"scatter3d\"}], \"scattercarpet\": [{\"marker\": {\"colorbar\": {\"outlinewidth\": 0, \"ticks\": \"\"}}, \"type\": \"scattercarpet\"}], \"scattergeo\": [{\"marker\": {\"colorbar\": {\"outlinewidth\": 0, \"ticks\": \"\"}}, \"type\": \"scattergeo\"}], \"scattergl\": [{\"marker\": {\"colorbar\": {\"outlinewidth\": 0, \"ticks\": \"\"}}, \"type\": \"scattergl\"}], \"scattermapbox\": [{\"marker\": {\"colorbar\": {\"outlinewidth\": 0, \"ticks\": \"\"}}, \"type\": \"scattermapbox\"}], \"scatterpolar\": [{\"marker\": {\"colorbar\": {\"outlinewidth\": 0, \"ticks\": \"\"}}, \"type\": \"scatterpolar\"}], \"scatterpolargl\": [{\"marker\": {\"colorbar\": {\"outlinewidth\": 0, \"ticks\": \"\"}}, \"type\": \"scatterpolargl\"}], \"scatterternary\": [{\"marker\": {\"colorbar\": {\"outlinewidth\": 0, \"ticks\": \"\"}}, \"type\": \"scatterternary\"}], \"surface\": [{\"colorbar\": {\"outlinewidth\": 0, \"ticks\": \"\"}, \"colorscale\": [[0.0, \"#0d0887\"], [0.1111111111111111, \"#46039f\"], [0.2222222222222222, \"#7201a8\"], [0.3333333333333333, \"#9c179e\"], [0.4444444444444444, \"#bd3786\"], [0.5555555555555556, \"#d8576b\"], [0.6666666666666666, \"#ed7953\"], [0.7777777777777778, \"#fb9f3a\"], [0.8888888888888888, \"#fdca26\"], [1.0, \"#f0f921\"]], \"type\": \"surface\"}], \"table\": [{\"cells\": {\"fill\": {\"color\": \"#EBF0F8\"}, \"line\": {\"color\": \"white\"}}, \"header\": {\"fill\": {\"color\": \"#C8D4E3\"}, \"line\": {\"color\": \"white\"}}, \"type\": \"table\"}]}, \"layout\": {\"annotationdefaults\": {\"arrowcolor\": \"#2a3f5f\", \"arrowhead\": 0, \"arrowwidth\": 1}, \"coloraxis\": {\"colorbar\": {\"outlinewidth\": 0, \"ticks\": \"\"}}, \"colorscale\": {\"diverging\": [[0, \"#8e0152\"], [0.1, \"#c51b7d\"], [0.2, \"#de77ae\"], [0.3, \"#f1b6da\"], [0.4, \"#fde0ef\"], [0.5, \"#f7f7f7\"], [0.6, \"#e6f5d0\"], [0.7, \"#b8e186\"], [0.8, \"#7fbc41\"], [0.9, \"#4d9221\"], [1, \"#276419\"]], \"sequential\": [[0.0, \"#0d0887\"], [0.1111111111111111, \"#46039f\"], [0.2222222222222222, \"#7201a8\"], [0.3333333333333333, \"#9c179e\"], [0.4444444444444444, \"#bd3786\"], [0.5555555555555556, \"#d8576b\"], [0.6666666666666666, \"#ed7953\"], [0.7777777777777778, \"#fb9f3a\"], [0.8888888888888888, \"#fdca26\"], [1.0, \"#f0f921\"]], \"sequentialminus\": [[0.0, \"#0d0887\"], [0.1111111111111111, \"#46039f\"], [0.2222222222222222, \"#7201a8\"], [0.3333333333333333, \"#9c179e\"], [0.4444444444444444, \"#bd3786\"], [0.5555555555555556, \"#d8576b\"], [0.6666666666666666, \"#ed7953\"], [0.7777777777777778, \"#fb9f3a\"], [0.8888888888888888, \"#fdca26\"], [1.0, \"#f0f921\"]]}, \"colorway\": [\"#636efa\", \"#EF553B\", \"#00cc96\", \"#ab63fa\", \"#FFA15A\", \"#19d3f3\", \"#FF6692\", \"#B6E880\", \"#FF97FF\", \"#FECB52\"], \"font\": {\"color\": \"#2a3f5f\"}, \"geo\": {\"bgcolor\": \"white\", \"lakecolor\": \"white\", \"landcolor\": \"#E5ECF6\", \"showlakes\": true, \"showland\": true, \"subunitcolor\": \"white\"}, \"hoverlabel\": {\"align\": \"left\"}, \"hovermode\": \"closest\", \"mapbox\": {\"style\": \"light\"}, \"paper_bgcolor\": \"white\", \"plot_bgcolor\": \"#E5ECF6\", \"polar\": {\"angularaxis\": {\"gridcolor\": \"white\", \"linecolor\": \"white\", \"ticks\": \"\"}, \"bgcolor\": \"#E5ECF6\", \"radialaxis\": {\"gridcolor\": \"white\", \"linecolor\": \"white\", \"ticks\": \"\"}}, \"scene\": {\"xaxis\": {\"backgroundcolor\": \"#E5ECF6\", \"gridcolor\": \"white\", \"gridwidth\": 2, \"linecolor\": \"white\", \"showbackground\": true, \"ticks\": \"\", \"zerolinecolor\": \"white\"}, \"yaxis\": {\"backgroundcolor\": \"#E5ECF6\", \"gridcolor\": \"white\", \"gridwidth\": 2, \"linecolor\": \"white\", \"showbackground\": true, \"ticks\": \"\", \"zerolinecolor\": \"white\"}, \"zaxis\": {\"backgroundcolor\": \"#E5ECF6\", \"gridcolor\": \"white\", \"gridwidth\": 2, \"linecolor\": \"white\", \"showbackground\": true, \"ticks\": \"\", \"zerolinecolor\": \"white\"}}, \"shapedefaults\": {\"line\": {\"color\": \"#2a3f5f\"}}, \"ternary\": {\"aaxis\": {\"gridcolor\": \"white\", \"linecolor\": \"white\", \"ticks\": \"\"}, \"baxis\": {\"gridcolor\": \"white\", \"linecolor\": \"white\", \"ticks\": \"\"}, \"bgcolor\": \"#E5ECF6\", \"caxis\": {\"gridcolor\": \"white\", \"linecolor\": \"white\", \"ticks\": \"\"}}, \"title\": {\"x\": 0.05}, \"xaxis\": {\"automargin\": true, \"gridcolor\": \"white\", \"linecolor\": \"white\", \"ticks\": \"\", \"title\": {\"standoff\": 15}, \"zerolinecolor\": \"white\", \"zerolinewidth\": 2}, \"yaxis\": {\"automargin\": true, \"gridcolor\": \"white\", \"linecolor\": \"white\", \"ticks\": \"\", \"title\": {\"standoff\": 15}, \"zerolinecolor\": \"white\", \"zerolinewidth\": 2}}}, \"title\": {\"text\": \"Hyperparameter tunning\"}, \"width\": 800, \"xaxis\": {\"anchor\": \"y\", \"domain\": [0.0, 0.94], \"rangeslider\": {\"visible\": true}, \"tickangle\": -90}, \"yaxis\": {\"anchor\": \"x\", \"domain\": [0.0, 1.0]}, \"yaxis2\": {\"anchor\": \"x\", \"overlaying\": \"y\", \"side\": \"right\"}},\n",
              "                        {\"responsive\": true}\n",
              "                    ).then(function(){\n",
              "                            \n",
              "var gd = document.getElementById('33d41ef8-eff1-41b4-969b-eea9641f1370');\n",
              "var x = new MutationObserver(function (mutations, observer) {{\n",
              "        var display = window.getComputedStyle(gd).display;\n",
              "        if (!display || display === 'none') {{\n",
              "            console.log([gd, 'removed!']);\n",
              "            Plotly.purge(gd);\n",
              "            observer.disconnect();\n",
              "        }}\n",
              "}});\n",
              "\n",
              "// Listen for the removal of the full notebook cells\n",
              "var notebookContainer = gd.closest('#notebook-container');\n",
              "if (notebookContainer) {{\n",
              "    x.observe(notebookContainer, {childList: true});\n",
              "}}\n",
              "\n",
              "// Listen for the clearing of the current output cell\n",
              "var outputEl = gd.closest('.output');\n",
              "if (outputEl) {{\n",
              "    x.observe(outputEl, {childList: true});\n",
              "}}\n",
              "\n",
              "                        })\n",
              "                };\n",
              "                \n",
              "            </script>\n",
              "        </div>\n",
              "</body>\n",
              "</html>"
            ]
          },
          "metadata": {
            "tags": []
          }
        }
      ]
    },
    {
      "cell_type": "markdown",
      "metadata": {
        "id": "RUQLTDev6Rto"
      },
      "source": [
        "* best alpha= 0.1\n",
        "  * train_scores:2.216498\n",
        "  * CV_train=2.062618"
      ]
    },
    {
      "cell_type": "markdown",
      "metadata": {
        "id": "0zCKkPAV67fp"
      },
      "source": [
        "### Now its time to train our model on best hyperparameter (without StandardScaler)"
      ]
    },
    {
      "cell_type": "code",
      "metadata": {
        "id": "uTgblDTv6Rdr",
        "colab": {
          "base_uri": "https://localhost:8080/"
        },
        "outputId": "ce7749da-7e53-45ad-8d79-c1c5a03a649c"
      },
      "source": [
        "# clf=SGDRegressor(alpha=0.1,loss='squared_loss', penalty='l2',max_iter=1000, tol=1e-3)\n",
        "# clf.fit(x_train,y_train)\n",
        "y_predict=clf.predict(x_test)\n",
        "RMSE=mean_squared_error(y_test, y_predict, squared=False)\n",
        "print('RMSE of linear regression with L2 regularizer :',RMSE)"
      ],
      "execution_count": null,
      "outputs": [
        {
          "output_type": "stream",
          "text": [
            "RMSE of linear regression with L2 regularizer : 1.9920387972945417\n"
          ],
          "name": "stdout"
        }
      ]
    },
    {
      "cell_type": "code",
      "metadata": {
        "id": "tMi7VcTfEUeY",
        "colab": {
          "base_uri": "https://localhost:8080/"
        },
        "outputId": "8cdaaf68-dec8-412c-ea6a-efb26183fb53"
      },
      "source": [
        "y_predict"
      ],
      "execution_count": null,
      "outputs": [
        {
          "output_type": "execute_result",
          "data": {
            "text/plain": [
              "array([1.09088254, 0.22573427, 0.64515436, ..., 0.55371958, 1.30215982,\n",
              "       2.55598297])"
            ]
          },
          "metadata": {
            "tags": []
          },
          "execution_count": 34
        }
      ]
    },
    {
      "cell_type": "markdown",
      "metadata": {
        "id": "C3BAs-YeHQw-"
      },
      "source": [
        "### train our model on best hyperparameter (with StandardScaler)"
      ]
    },
    {
      "cell_type": "code",
      "metadata": {
        "colab": {
          "base_uri": "https://localhost:8080/"
        },
        "id": "OzowdKthFARq",
        "outputId": "4152c83a-cbc3-4232-eb4f-11eaa0ae6359"
      },
      "source": [
        "clf=make_pipeline(StandardScaler(),SGDRegressor(alpha=0.1,loss='squared_loss', penalty='l2',max_iter=1000, tol=1e-3))\n",
        "clf.fit(x_train,y_train)d\n",
        "y_predict=clf.predict(x_test)\n",
        "RMSE=mean_squared_error(y_test, y_predict, squared=False)\n",
        "print('RMSE of linear regression with L2 regularizer :',RMSE)"
      ],
      "execution_count": null,
      "outputs": [
        {
          "output_type": "stream",
          "text": [
            "RMSE of linear regression with L2 regularizer : 3.5391311324926433\n"
          ],
          "name": "stdout"
        }
      ]
    },
    {
      "cell_type": "markdown",
      "metadata": {
        "id": "OpFe4Tco8twF"
      },
      "source": [
        "## 2. LGBM :"
      ]
    },
    {
      "cell_type": "markdown",
      "metadata": {
        "id": "pgHiTEuE80yJ"
      },
      "source": [
        "* Hyperparameter Tunning "
      ]
    },
    {
      "cell_type": "code",
      "metadata": {
        "id": "XRK1i6W9EPOM"
      },
      "source": [
        "def GridSearch(x_train,y_train,x_CV,y_CV,parameter):\n",
        "\n",
        "  learning_rate=parameter['learning_rate']\n",
        "  n_estimators=parameter['n_estimators']\n",
        "  train_scores =[]\n",
        "  CV_scores =[]\n",
        "  parameter_str=[]\n",
        "  for i in tqdm(n_estimators):\n",
        "    for j in tqdm(learning_rate):\n",
        "      clf=LGBMRegressor(learning_rate=j,n_estimators=i)\n",
        "      clf.fit(x_train,y_train)\n",
        "      ## predicting CV data\n",
        "      y_predict=clf.predict(x_CV)\n",
        "      RMSE=mean_squared_error(y_CV, y_predict, squared=False)\n",
        "      CV_scores.append(RMSE)\n",
        "      ## predicting training data\n",
        "      y_predict_=clf.predict(x_train)\n",
        "      RMSE_=mean_squared_error(y_train, y_predict_, squared=False)\n",
        "      train_scores.append(RMSE_)\n",
        "\n",
        "      parameter_str.append('n_est:'+str(i)+'__'+'LR:'+str(j))\n",
        "  return train_scores,CV_scores,parameter_str"
      ],
      "execution_count": null,
      "outputs": []
    },
    {
      "cell_type": "code",
      "metadata": {
        "id": "1HL7th_TtI2B"
      },
      "source": [
        "def GridSearch(x_train,y_train,x_CV,y_CV,parameter):\n",
        "\n",
        "  learning_rate=parameter['learning_rate']\n",
        "  n_estimators=parameter['n_estimators']\n",
        "  train_scores =[]\n",
        "  CV_scores =[]\n",
        "  parameter_str=[]\n",
        "  for i in tqdm(n_estimators):\n",
        "    for j in tqdm(learning_rate):\n",
        "      clf=LGBMRegressor(objective='poisson' ,learning_rate=j,n_estimators=i)\n",
        "      clf.fit(x_train,y_train)\n",
        "      ## predicting CV data\n",
        "      y_predict=clf.predict(x_CV)\n",
        "      RMSE=mean_squared_error(y_CV, y_predict, squared=False)\n",
        "      CV_scores.append(RMSE)\n",
        "      ## predicting training data\n",
        "      y_predict_=clf.predict(x_train)\n",
        "      RMSE_=mean_squared_error(y_train, y_predict_, squared=False)\n",
        "      train_scores.append(RMSE_)\n",
        "\n",
        "      parameter_str.append('n_est:'+str(i)+'__'+'LR:'+str(j))\n",
        "  return train_scores,CV_scores,parameter_str\n",
        "\n",
        "parameters = {'learning_rate':[0.0001, 0.001, 0.01, 0.1,0.2,10] , 'n_estimators': [10,50,75,100,150] }\n",
        "train_scores,CV_scores,parameter_str=GridSearch(x_train,y_train,x_CV,y_CV,parameters)"
      ],
      "execution_count": null,
      "outputs": []
    },
    {
      "cell_type": "code",
      "metadata": {
        "colab": {
          "base_uri": "https://localhost:8080/"
        },
        "id": "63Lq8gteE_Z9",
        "outputId": "eec43f4e-642b-4caf-9cf7-4e26587c1f55"
      },
      "source": [
        "parameters = {'learning_rate':[0.0001, 0.001, 0.01, 0.1,0.2,10] , 'n_estimators': [10,50,75,100,150] }\n",
        "train_scores,CV_scores,parameter_str=GridSearch(x_train,y_train,x_CV,y_CV,parameters)"
      ],
      "execution_count": null,
      "outputs": [
        {
          "output_type": "stream",
          "text": [
            "\n",
            "\n",
            "  0%|          | 0/5 [00:00<?, ?it/s]\u001b[A\u001b[A\n",
            "\n",
            "\n",
            "  0%|          | 0/6 [00:00<?, ?it/s]\u001b[A\u001b[A\u001b[A\n",
            "\n",
            "\n",
            " 17%|█▋        | 1/6 [01:27<07:19, 87.96s/it]\u001b[A\u001b[A\u001b[A\n",
            "\n",
            "\n",
            " 33%|███▎      | 2/6 [02:46<05:40, 85.09s/it]\u001b[A\u001b[A\u001b[A\n",
            "\n",
            "\n",
            " 50%|█████     | 3/6 [04:04<04:09, 83.07s/it]\u001b[A\u001b[A\u001b[A\n",
            "\n",
            "\n",
            " 67%|██████▋   | 4/6 [05:23<02:43, 81.82s/it]\u001b[A\u001b[A\u001b[A\n",
            "\n",
            "\n",
            " 83%|████████▎ | 5/6 [06:40<01:20, 80.34s/it]\u001b[A\u001b[A\u001b[A\n",
            "\n",
            "\n",
            "100%|██████████| 6/6 [07:58<00:00, 79.74s/it]\n",
            "\n",
            "\n",
            " 20%|██        | 1/5 [07:58<31:53, 478.44s/it]\u001b[A\u001b[A\n",
            "\n",
            "\n",
            "  0%|          | 0/6 [00:00<?, ?it/s]\u001b[A\u001b[A\u001b[A\n",
            "\n",
            "\n",
            " 17%|█▋        | 1/6 [02:58<14:54, 178.88s/it]\u001b[A\u001b[A\u001b[A\n",
            "\n",
            "\n",
            " 33%|███▎      | 2/6 [05:59<11:58, 179.50s/it]\u001b[A\u001b[A\u001b[A\n",
            "\n",
            "\n",
            " 50%|█████     | 3/6 [09:04<09:02, 180.97s/it]\u001b[A\u001b[A\u001b[A\n",
            "\n",
            "\n",
            " 67%|██████▋   | 4/6 [11:53<05:54, 177.35s/it]\u001b[A\u001b[A\u001b[A\n",
            "\n",
            "\n",
            " 83%|████████▎ | 5/6 [14:28<02:50, 170.84s/it]\u001b[A\u001b[A\u001b[A\n",
            "\n",
            "\n",
            "100%|██████████| 6/6 [17:06<00:00, 171.16s/it]\n",
            "\n",
            "\n",
            " 40%|████      | 2/5 [25:05<32:09, 643.01s/it]\u001b[A\u001b[A\n",
            "\n",
            "\n",
            "  0%|          | 0/6 [00:00<?, ?it/s]\u001b[A\u001b[A\u001b[A\n",
            "\n",
            "\n",
            " 17%|█▋        | 1/6 [04:00<20:02, 240.50s/it]\u001b[A\u001b[A\u001b[A\n",
            "\n",
            "\n",
            " 33%|███▎      | 2/6 [08:03<16:05, 241.30s/it]\u001b[A\u001b[A\u001b[A\n",
            "\n",
            "\n",
            " 50%|█████     | 3/6 [12:10<12:08, 242.87s/it]\u001b[A\u001b[A\u001b[A\n",
            "\n",
            "\n",
            " 67%|██████▋   | 4/6 [15:46<07:49, 234.90s/it]\u001b[A\u001b[A\u001b[A\n",
            "\n",
            "\n",
            " 83%|████████▎ | 5/6 [19:05<03:44, 224.16s/it]\u001b[A\u001b[A\u001b[A\n",
            "\n",
            "\n",
            "100%|██████████| 6/6 [22:05<00:00, 220.84s/it]\n",
            "\n",
            "\n",
            " 60%|██████    | 3/5 [47:10<28:15, 847.61s/it]\u001b[A\u001b[A\n",
            "\n",
            "\n",
            "  0%|          | 0/6 [00:00<?, ?it/s]\u001b[A\u001b[A\u001b[A\n",
            "\n",
            "\n",
            " 17%|█▋        | 1/6 [05:23<26:57, 323.46s/it]\u001b[A\u001b[A\u001b[A\n",
            "\n",
            "\n",
            " 33%|███▎      | 2/6 [10:30<21:14, 318.61s/it]\u001b[A\u001b[A\u001b[A\n",
            "\n",
            "\n",
            " 50%|█████     | 3/6 [15:47<15:54, 318.18s/it]\u001b[A\u001b[A\u001b[A\n",
            "\n",
            "\n",
            " 67%|██████▋   | 4/6 [20:09<10:02, 301.06s/it]\u001b[A\u001b[A\u001b[A\n",
            "\n",
            "\n",
            " 83%|████████▎ | 5/6 [24:09<04:42, 283.00s/it]\u001b[A\u001b[A\u001b[A\n",
            "\n",
            "\n",
            "100%|██████████| 6/6 [27:32<00:00, 275.37s/it]\n",
            "\n",
            "\n",
            " 80%|████████  | 4/5 [1:14:42<18:09, 1089.00s/it]\u001b[A\u001b[A\n",
            "\n",
            "\n",
            "  0%|          | 0/6 [00:00<?, ?it/s]\u001b[A\u001b[A\u001b[A\n",
            "\n",
            "\n",
            " 17%|█▋        | 1/6 [07:10<35:51, 430.26s/it]\u001b[A\u001b[A\u001b[A\n",
            "\n",
            "\n",
            " 33%|███▎      | 2/6 [14:24<28:46, 431.56s/it]\u001b[A\u001b[A\u001b[A\n",
            "\n",
            "\n",
            " 50%|█████     | 3/6 [21:44<21:41, 433.98s/it]\u001b[A\u001b[A\u001b[A\n",
            "\n",
            "\n",
            " 67%|██████▋   | 4/6 [27:41<13:41, 410.80s/it]\u001b[A\u001b[A\u001b[A\n",
            "\n",
            "\n",
            " 83%|████████▎ | 5/6 [32:57<06:22, 382.37s/it]\u001b[A\u001b[A\u001b[A\n",
            "\n",
            "\n",
            "100%|██████████| 6/6 [36:56<00:00, 369.49s/it]\n",
            "\n",
            "\n",
            "100%|██████████| 5/5 [1:51:39<00:00, 1339.93s/it]\n"
          ],
          "name": "stderr"
        }
      ]
    },
    {
      "cell_type": "code",
      "metadata": {
        "colab": {
          "base_uri": "https://localhost:8080/"
        },
        "id": "a-k1y7MPJZdd",
        "outputId": "09418867-14ab-444c-da24-02be22abebaf"
      },
      "source": [
        "print(train_scores)\n",
        "print(CV_scores)\n",
        "print(parameter_str)"
      ],
      "execution_count": null,
      "outputs": [
        {
          "output_type": "stream",
          "text": [
            "[3.7654287520517045, 3.740768688519243, 3.50793429342504, 2.2256202072190305, 1.918953761297223, 11239911491.582495, 3.7544393839576795, 3.634500272945135, 2.750837239088922, 1.838461299438963, 1.8019392245731016, 5.882380997347946e+36, 3.7475993179331684, 3.5707618356327253, 2.45552381676893, 1.8167042312775106, 1.7814567903741902, 5.882380997347946e+36, 3.7407807944281006, 3.5090273359348427, 2.255099538107824, 1.8011079166952864, 1.7655944452478247, 5.882380997347946e+36, 3.727208083643854, 3.3911710478392707, 2.0339053713013695, 1.7797200522231644, 1.7415195399509542, 5.882380997347946e+36]\n",
            "[3.59441043307569, 3.5700842078344044, 3.3403139048761994, 2.076804332939461, 1.7898090083046536, 10974204546.67647, 3.5835700989418995, 3.4651780860093724, 2.595022489284013, 1.7341680568832327, 1.7262418741879642, 5.743323909145523e+36, 3.576822589714197, 3.4023068642225254, 2.303275433108982, 1.7257245177607388, 1.719733125424288, 5.743323909145523e+36, 3.5700940332482687, 3.3414155162108, 2.1065469864357715, 1.7214680881400541, 1.7164388986725263, 5.743323909145523e+36, 3.556693292481813, 3.2255700612939333, 1.8934211132428065, 1.7151050600065207, 1.716789662126548, 5.743323909145523e+36]\n",
            "['n_est:10__LR:0.0001', 'n_est:10__LR:0.001', 'n_est:10__LR:0.01', 'n_est:10__LR:0.1', 'n_est:10__LR:0.2', 'n_est:10__LR:10', 'n_est:50__LR:0.0001', 'n_est:50__LR:0.001', 'n_est:50__LR:0.01', 'n_est:50__LR:0.1', 'n_est:50__LR:0.2', 'n_est:50__LR:10', 'n_est:75__LR:0.0001', 'n_est:75__LR:0.001', 'n_est:75__LR:0.01', 'n_est:75__LR:0.1', 'n_est:75__LR:0.2', 'n_est:75__LR:10', 'n_est:100__LR:0.0001', 'n_est:100__LR:0.001', 'n_est:100__LR:0.01', 'n_est:100__LR:0.1', 'n_est:100__LR:0.2', 'n_est:100__LR:10', 'n_est:150__LR:0.0001', 'n_est:150__LR:0.001', 'n_est:150__LR:0.01', 'n_est:150__LR:0.1', 'n_est:150__LR:0.2', 'n_est:150__LR:10']\n"
          ],
          "name": "stdout"
        }
      ]
    },
    {
      "cell_type": "code",
      "metadata": {
        "colab": {
          "base_uri": "https://localhost:8080/"
        },
        "id": "ove8FsB5KkJn",
        "outputId": "119ae059-1eea-432a-8d71-98700af69416"
      },
      "source": [
        "learning_rate"
      ],
      "execution_count": null,
      "outputs": [
        {
          "output_type": "execute_result",
          "data": {
            "text/plain": [
              "[0.0001, 0.001, 0.01, 0.1, 0.2, 10]"
            ]
          },
          "metadata": {
            "tags": []
          },
          "execution_count": 67
        }
      ]
    },
    {
      "cell_type": "code",
      "metadata": {
        "colab": {
          "base_uri": "https://localhost:8080/",
          "height": 973
        },
        "id": "DkPosub4Krt9",
        "outputId": "1c1b9abf-9576-4fb9-c2de-1c3bbc2492be"
      },
      "source": [
        "temp=pd.DataFrame({'parameter':parameter_str,'train_scores':train_scores,'CV_scores':CV_scores})\n",
        "temp"
      ],
      "execution_count": null,
      "outputs": [
        {
          "output_type": "execute_result",
          "data": {
            "text/html": [
              "<div>\n",
              "<style scoped>\n",
              "    .dataframe tbody tr th:only-of-type {\n",
              "        vertical-align: middle;\n",
              "    }\n",
              "\n",
              "    .dataframe tbody tr th {\n",
              "        vertical-align: top;\n",
              "    }\n",
              "\n",
              "    .dataframe thead th {\n",
              "        text-align: right;\n",
              "    }\n",
              "</style>\n",
              "<table border=\"1\" class=\"dataframe\">\n",
              "  <thead>\n",
              "    <tr style=\"text-align: right;\">\n",
              "      <th></th>\n",
              "      <th>parameter</th>\n",
              "      <th>train_scores</th>\n",
              "      <th>CV_scores</th>\n",
              "    </tr>\n",
              "  </thead>\n",
              "  <tbody>\n",
              "    <tr>\n",
              "      <th>0</th>\n",
              "      <td>n_est:10__LR:0.0001</td>\n",
              "      <td>3.765429e+00</td>\n",
              "      <td>3.594410e+00</td>\n",
              "    </tr>\n",
              "    <tr>\n",
              "      <th>1</th>\n",
              "      <td>n_est:10__LR:0.001</td>\n",
              "      <td>3.740769e+00</td>\n",
              "      <td>3.570084e+00</td>\n",
              "    </tr>\n",
              "    <tr>\n",
              "      <th>2</th>\n",
              "      <td>n_est:10__LR:0.01</td>\n",
              "      <td>3.507934e+00</td>\n",
              "      <td>3.340314e+00</td>\n",
              "    </tr>\n",
              "    <tr>\n",
              "      <th>3</th>\n",
              "      <td>n_est:10__LR:0.1</td>\n",
              "      <td>2.225620e+00</td>\n",
              "      <td>2.076804e+00</td>\n",
              "    </tr>\n",
              "    <tr>\n",
              "      <th>4</th>\n",
              "      <td>n_est:10__LR:0.2</td>\n",
              "      <td>1.918954e+00</td>\n",
              "      <td>1.789809e+00</td>\n",
              "    </tr>\n",
              "    <tr>\n",
              "      <th>5</th>\n",
              "      <td>n_est:10__LR:10</td>\n",
              "      <td>1.123991e+10</td>\n",
              "      <td>1.097420e+10</td>\n",
              "    </tr>\n",
              "    <tr>\n",
              "      <th>6</th>\n",
              "      <td>n_est:50__LR:0.0001</td>\n",
              "      <td>3.754439e+00</td>\n",
              "      <td>3.583570e+00</td>\n",
              "    </tr>\n",
              "    <tr>\n",
              "      <th>7</th>\n",
              "      <td>n_est:50__LR:0.001</td>\n",
              "      <td>3.634500e+00</td>\n",
              "      <td>3.465178e+00</td>\n",
              "    </tr>\n",
              "    <tr>\n",
              "      <th>8</th>\n",
              "      <td>n_est:50__LR:0.01</td>\n",
              "      <td>2.750837e+00</td>\n",
              "      <td>2.595022e+00</td>\n",
              "    </tr>\n",
              "    <tr>\n",
              "      <th>9</th>\n",
              "      <td>n_est:50__LR:0.1</td>\n",
              "      <td>1.838461e+00</td>\n",
              "      <td>1.734168e+00</td>\n",
              "    </tr>\n",
              "    <tr>\n",
              "      <th>10</th>\n",
              "      <td>n_est:50__LR:0.2</td>\n",
              "      <td>1.801939e+00</td>\n",
              "      <td>1.726242e+00</td>\n",
              "    </tr>\n",
              "    <tr>\n",
              "      <th>11</th>\n",
              "      <td>n_est:50__LR:10</td>\n",
              "      <td>5.882381e+36</td>\n",
              "      <td>5.743324e+36</td>\n",
              "    </tr>\n",
              "    <tr>\n",
              "      <th>12</th>\n",
              "      <td>n_est:75__LR:0.0001</td>\n",
              "      <td>3.747599e+00</td>\n",
              "      <td>3.576823e+00</td>\n",
              "    </tr>\n",
              "    <tr>\n",
              "      <th>13</th>\n",
              "      <td>n_est:75__LR:0.001</td>\n",
              "      <td>3.570762e+00</td>\n",
              "      <td>3.402307e+00</td>\n",
              "    </tr>\n",
              "    <tr>\n",
              "      <th>14</th>\n",
              "      <td>n_est:75__LR:0.01</td>\n",
              "      <td>2.455524e+00</td>\n",
              "      <td>2.303275e+00</td>\n",
              "    </tr>\n",
              "    <tr>\n",
              "      <th>15</th>\n",
              "      <td>n_est:75__LR:0.1</td>\n",
              "      <td>1.816704e+00</td>\n",
              "      <td>1.725725e+00</td>\n",
              "    </tr>\n",
              "    <tr>\n",
              "      <th>16</th>\n",
              "      <td>n_est:75__LR:0.2</td>\n",
              "      <td>1.781457e+00</td>\n",
              "      <td>1.719733e+00</td>\n",
              "    </tr>\n",
              "    <tr>\n",
              "      <th>17</th>\n",
              "      <td>n_est:75__LR:10</td>\n",
              "      <td>5.882381e+36</td>\n",
              "      <td>5.743324e+36</td>\n",
              "    </tr>\n",
              "    <tr>\n",
              "      <th>18</th>\n",
              "      <td>n_est:100__LR:0.0001</td>\n",
              "      <td>3.740781e+00</td>\n",
              "      <td>3.570094e+00</td>\n",
              "    </tr>\n",
              "    <tr>\n",
              "      <th>19</th>\n",
              "      <td>n_est:100__LR:0.001</td>\n",
              "      <td>3.509027e+00</td>\n",
              "      <td>3.341416e+00</td>\n",
              "    </tr>\n",
              "    <tr>\n",
              "      <th>20</th>\n",
              "      <td>n_est:100__LR:0.01</td>\n",
              "      <td>2.255100e+00</td>\n",
              "      <td>2.106547e+00</td>\n",
              "    </tr>\n",
              "    <tr>\n",
              "      <th>21</th>\n",
              "      <td>n_est:100__LR:0.1</td>\n",
              "      <td>1.801108e+00</td>\n",
              "      <td>1.721468e+00</td>\n",
              "    </tr>\n",
              "    <tr>\n",
              "      <th>22</th>\n",
              "      <td>n_est:100__LR:0.2</td>\n",
              "      <td>1.765594e+00</td>\n",
              "      <td>1.716439e+00</td>\n",
              "    </tr>\n",
              "    <tr>\n",
              "      <th>23</th>\n",
              "      <td>n_est:100__LR:10</td>\n",
              "      <td>5.882381e+36</td>\n",
              "      <td>5.743324e+36</td>\n",
              "    </tr>\n",
              "    <tr>\n",
              "      <th>24</th>\n",
              "      <td>n_est:150__LR:0.0001</td>\n",
              "      <td>3.727208e+00</td>\n",
              "      <td>3.556693e+00</td>\n",
              "    </tr>\n",
              "    <tr>\n",
              "      <th>25</th>\n",
              "      <td>n_est:150__LR:0.001</td>\n",
              "      <td>3.391171e+00</td>\n",
              "      <td>3.225570e+00</td>\n",
              "    </tr>\n",
              "    <tr>\n",
              "      <th>26</th>\n",
              "      <td>n_est:150__LR:0.01</td>\n",
              "      <td>2.033905e+00</td>\n",
              "      <td>1.893421e+00</td>\n",
              "    </tr>\n",
              "    <tr>\n",
              "      <th>27</th>\n",
              "      <td>n_est:150__LR:0.1</td>\n",
              "      <td>1.779720e+00</td>\n",
              "      <td>1.715105e+00</td>\n",
              "    </tr>\n",
              "    <tr>\n",
              "      <th>28</th>\n",
              "      <td>n_est:150__LR:0.2</td>\n",
              "      <td>1.741520e+00</td>\n",
              "      <td>1.716790e+00</td>\n",
              "    </tr>\n",
              "    <tr>\n",
              "      <th>29</th>\n",
              "      <td>n_est:150__LR:10</td>\n",
              "      <td>5.882381e+36</td>\n",
              "      <td>5.743324e+36</td>\n",
              "    </tr>\n",
              "  </tbody>\n",
              "</table>\n",
              "</div>"
            ],
            "text/plain": [
              "               parameter  train_scores     CV_scores\n",
              "0    n_est:10__LR:0.0001  3.765429e+00  3.594410e+00\n",
              "1     n_est:10__LR:0.001  3.740769e+00  3.570084e+00\n",
              "2      n_est:10__LR:0.01  3.507934e+00  3.340314e+00\n",
              "3       n_est:10__LR:0.1  2.225620e+00  2.076804e+00\n",
              "4       n_est:10__LR:0.2  1.918954e+00  1.789809e+00\n",
              "5        n_est:10__LR:10  1.123991e+10  1.097420e+10\n",
              "6    n_est:50__LR:0.0001  3.754439e+00  3.583570e+00\n",
              "7     n_est:50__LR:0.001  3.634500e+00  3.465178e+00\n",
              "8      n_est:50__LR:0.01  2.750837e+00  2.595022e+00\n",
              "9       n_est:50__LR:0.1  1.838461e+00  1.734168e+00\n",
              "10      n_est:50__LR:0.2  1.801939e+00  1.726242e+00\n",
              "11       n_est:50__LR:10  5.882381e+36  5.743324e+36\n",
              "12   n_est:75__LR:0.0001  3.747599e+00  3.576823e+00\n",
              "13    n_est:75__LR:0.001  3.570762e+00  3.402307e+00\n",
              "14     n_est:75__LR:0.01  2.455524e+00  2.303275e+00\n",
              "15      n_est:75__LR:0.1  1.816704e+00  1.725725e+00\n",
              "16      n_est:75__LR:0.2  1.781457e+00  1.719733e+00\n",
              "17       n_est:75__LR:10  5.882381e+36  5.743324e+36\n",
              "18  n_est:100__LR:0.0001  3.740781e+00  3.570094e+00\n",
              "19   n_est:100__LR:0.001  3.509027e+00  3.341416e+00\n",
              "20    n_est:100__LR:0.01  2.255100e+00  2.106547e+00\n",
              "21     n_est:100__LR:0.1  1.801108e+00  1.721468e+00\n",
              "22     n_est:100__LR:0.2  1.765594e+00  1.716439e+00\n",
              "23      n_est:100__LR:10  5.882381e+36  5.743324e+36\n",
              "24  n_est:150__LR:0.0001  3.727208e+00  3.556693e+00\n",
              "25   n_est:150__LR:0.001  3.391171e+00  3.225570e+00\n",
              "26    n_est:150__LR:0.01  2.033905e+00  1.893421e+00\n",
              "27     n_est:150__LR:0.1  1.779720e+00  1.715105e+00\n",
              "28     n_est:150__LR:0.2  1.741520e+00  1.716790e+00\n",
              "29      n_est:150__LR:10  5.882381e+36  5.743324e+36"
            ]
          },
          "metadata": {
            "tags": []
          },
          "execution_count": 73
        }
      ]
    },
    {
      "cell_type": "code",
      "metadata": {
        "colab": {
          "base_uri": "https://localhost:8080/",
          "height": 617
        },
        "id": "A1ZkxFPqtMpM",
        "outputId": "06e73892-612a-438e-9a0e-bba1653fafb0"
      },
      "source": [
        "#refrences:https://stackoverflow.com/questions/62287001/how-to-overlay-two-plots-in-same-figure-in-plotly-create-pareto-chart-in-plotl\n",
        "import plotly.graph_objects as go\n",
        "from plotly.subplots import make_subplots\n",
        "from plotly.offline import plot, iplot, init_notebook_mode\n",
        "\n",
        "trace1 = go.Scatter(\n",
        "    x=temp['parameter'],\n",
        "    y=temp['train_scores'],\n",
        "    name='train_scores',\n",
        "    yaxis='y2'\n",
        ")\n",
        "trace2 = go.Scatter(\n",
        "    x=temp['parameter'],\n",
        "    y=temp['CV_scores'],\n",
        "    name='CV_scores',\n",
        "    yaxis='y2'\n",
        ")\n",
        "fig = make_subplots(specs=[[{\"secondary_y\": True}]])\n",
        "fig.add_trace(trace1)\n",
        "fig.update_xaxes(rangeslider_visible=True)\n",
        "fig.add_trace(trace2,secondary_y=True)\n",
        "fig['layout'].update(height = 600, width = 800, title = 'Hyperparameter tunning',xaxis=dict(\n",
        "      tickangle=-90\n",
        "    ))\n",
        "iplot(fig)"
      ],
      "execution_count": null,
      "outputs": [
        {
          "output_type": "display_data",
          "data": {
            "text/html": [
              "<html>\n",
              "<head><meta charset=\"utf-8\" /></head>\n",
              "<body>\n",
              "    <div>\n",
              "            <script src=\"https://cdnjs.cloudflare.com/ajax/libs/mathjax/2.7.5/MathJax.js?config=TeX-AMS-MML_SVG\"></script><script type=\"text/javascript\">if (window.MathJax) {MathJax.Hub.Config({SVG: {font: \"STIX-Web\"}});}</script>\n",
              "                <script type=\"text/javascript\">window.PlotlyConfig = {MathJaxConfig: 'local'};</script>\n",
              "        <script src=\"https://cdn.plot.ly/plotly-latest.min.js\"></script>    \n",
              "            <div id=\"db4fb46f-f8b9-40af-8600-7269cc174ff4\" class=\"plotly-graph-div\" style=\"height:600px; width:800px;\"></div>\n",
              "            <script type=\"text/javascript\">\n",
              "                \n",
              "                    window.PLOTLYENV=window.PLOTLYENV || {};\n",
              "                    \n",
              "                if (document.getElementById(\"db4fb46f-f8b9-40af-8600-7269cc174ff4\")) {\n",
              "                    Plotly.newPlot(\n",
              "                        'db4fb46f-f8b9-40af-8600-7269cc174ff4',\n",
              "                        [{\"name\": \"train_scores\", \"type\": \"scatter\", \"x\": [\"n_est:10__LR:0.0001\", \"n_est:10__LR:0.001\", \"n_est:10__LR:0.01\", \"n_est:10__LR:0.1\", \"n_est:10__LR:0.2\", \"n_est:10__LR:10\", \"n_est:50__LR:0.0001\", \"n_est:50__LR:0.001\", \"n_est:50__LR:0.01\", \"n_est:50__LR:0.1\", \"n_est:50__LR:0.2\", \"n_est:50__LR:10\", \"n_est:75__LR:0.0001\", \"n_est:75__LR:0.001\", \"n_est:75__LR:0.01\", \"n_est:75__LR:0.1\", \"n_est:75__LR:0.2\", \"n_est:75__LR:10\", \"n_est:100__LR:0.0001\", \"n_est:100__LR:0.001\", \"n_est:100__LR:0.01\", \"n_est:100__LR:0.1\", \"n_est:100__LR:0.2\", \"n_est:100__LR:10\", \"n_est:150__LR:0.0001\", \"n_est:150__LR:0.001\", \"n_est:150__LR:0.01\", \"n_est:150__LR:0.1\", \"n_est:150__LR:0.2\", \"n_est:150__LR:10\"], \"y\": [3.7654287520517045, 3.740768688519243, 3.50793429342504, 2.2256202072190305, 1.918953761297223, 11239911491.582495, 3.7544393839576795, 3.634500272945135, 2.750837239088922, 1.838461299438963, 1.8019392245731016, 5.882380997347946e+36, 3.7475993179331684, 3.5707618356327253, 2.45552381676893, 1.8167042312775106, 1.7814567903741902, 5.882380997347946e+36, 3.7407807944281006, 3.5090273359348427, 2.255099538107824, 1.8011079166952864, 1.7655944452478247, 5.882380997347946e+36, 3.727208083643854, 3.3911710478392707, 2.0339053713013695, 1.7797200522231644, 1.7415195399509542, 5.882380997347946e+36], \"yaxis\": \"y2\"}, {\"name\": \"CV_scores\", \"type\": \"scatter\", \"x\": [\"n_est:10__LR:0.0001\", \"n_est:10__LR:0.001\", \"n_est:10__LR:0.01\", \"n_est:10__LR:0.1\", \"n_est:10__LR:0.2\", \"n_est:10__LR:10\", \"n_est:50__LR:0.0001\", \"n_est:50__LR:0.001\", \"n_est:50__LR:0.01\", \"n_est:50__LR:0.1\", \"n_est:50__LR:0.2\", \"n_est:50__LR:10\", \"n_est:75__LR:0.0001\", \"n_est:75__LR:0.001\", \"n_est:75__LR:0.01\", \"n_est:75__LR:0.1\", \"n_est:75__LR:0.2\", \"n_est:75__LR:10\", \"n_est:100__LR:0.0001\", \"n_est:100__LR:0.001\", \"n_est:100__LR:0.01\", \"n_est:100__LR:0.1\", \"n_est:100__LR:0.2\", \"n_est:100__LR:10\", \"n_est:150__LR:0.0001\", \"n_est:150__LR:0.001\", \"n_est:150__LR:0.01\", \"n_est:150__LR:0.1\", \"n_est:150__LR:0.2\", \"n_est:150__LR:10\"], \"xaxis\": \"x\", \"y\": [3.59441043307569, 3.5700842078344044, 3.3403139048761994, 2.076804332939461, 1.7898090083046536, 10974204546.67647, 3.5835700989418995, 3.4651780860093724, 2.595022489284013, 1.7341680568832327, 1.7262418741879642, 5.743323909145523e+36, 3.576822589714197, 3.4023068642225254, 2.303275433108982, 1.7257245177607388, 1.719733125424288, 5.743323909145523e+36, 3.5700940332482687, 3.3414155162108, 2.1065469864357715, 1.7214680881400541, 1.7164388986725263, 5.743323909145523e+36, 3.556693292481813, 3.2255700612939333, 1.8934211132428065, 1.7151050600065207, 1.716789662126548, 5.743323909145523e+36], \"yaxis\": \"y2\"}],\n",
              "                        {\"height\": 600, \"template\": {\"data\": {\"bar\": [{\"error_x\": {\"color\": \"#2a3f5f\"}, \"error_y\": {\"color\": \"#2a3f5f\"}, \"marker\": {\"line\": {\"color\": \"#E5ECF6\", \"width\": 0.5}}, \"type\": \"bar\"}], \"barpolar\": [{\"marker\": {\"line\": {\"color\": \"#E5ECF6\", \"width\": 0.5}}, \"type\": \"barpolar\"}], \"carpet\": [{\"aaxis\": {\"endlinecolor\": \"#2a3f5f\", \"gridcolor\": \"white\", \"linecolor\": \"white\", \"minorgridcolor\": \"white\", \"startlinecolor\": \"#2a3f5f\"}, \"baxis\": {\"endlinecolor\": \"#2a3f5f\", \"gridcolor\": \"white\", \"linecolor\": \"white\", \"minorgridcolor\": \"white\", \"startlinecolor\": \"#2a3f5f\"}, \"type\": \"carpet\"}], \"choropleth\": [{\"colorbar\": {\"outlinewidth\": 0, \"ticks\": \"\"}, \"type\": \"choropleth\"}], \"contour\": [{\"colorbar\": {\"outlinewidth\": 0, \"ticks\": \"\"}, \"colorscale\": [[0.0, \"#0d0887\"], [0.1111111111111111, \"#46039f\"], [0.2222222222222222, \"#7201a8\"], [0.3333333333333333, \"#9c179e\"], [0.4444444444444444, \"#bd3786\"], [0.5555555555555556, \"#d8576b\"], [0.6666666666666666, \"#ed7953\"], [0.7777777777777778, \"#fb9f3a\"], [0.8888888888888888, \"#fdca26\"], [1.0, \"#f0f921\"]], \"type\": \"contour\"}], \"contourcarpet\": [{\"colorbar\": {\"outlinewidth\": 0, \"ticks\": \"\"}, \"type\": \"contourcarpet\"}], \"heatmap\": [{\"colorbar\": {\"outlinewidth\": 0, \"ticks\": \"\"}, \"colorscale\": [[0.0, \"#0d0887\"], [0.1111111111111111, \"#46039f\"], [0.2222222222222222, \"#7201a8\"], [0.3333333333333333, \"#9c179e\"], [0.4444444444444444, \"#bd3786\"], [0.5555555555555556, \"#d8576b\"], [0.6666666666666666, \"#ed7953\"], [0.7777777777777778, \"#fb9f3a\"], [0.8888888888888888, \"#fdca26\"], [1.0, \"#f0f921\"]], \"type\": \"heatmap\"}], \"heatmapgl\": [{\"colorbar\": {\"outlinewidth\": 0, \"ticks\": \"\"}, \"colorscale\": [[0.0, \"#0d0887\"], [0.1111111111111111, \"#46039f\"], [0.2222222222222222, \"#7201a8\"], [0.3333333333333333, \"#9c179e\"], [0.4444444444444444, \"#bd3786\"], [0.5555555555555556, \"#d8576b\"], [0.6666666666666666, \"#ed7953\"], [0.7777777777777778, \"#fb9f3a\"], [0.8888888888888888, \"#fdca26\"], [1.0, \"#f0f921\"]], \"type\": \"heatmapgl\"}], \"histogram\": [{\"marker\": {\"colorbar\": {\"outlinewidth\": 0, \"ticks\": \"\"}}, \"type\": \"histogram\"}], \"histogram2d\": [{\"colorbar\": {\"outlinewidth\": 0, \"ticks\": \"\"}, \"colorscale\": [[0.0, \"#0d0887\"], [0.1111111111111111, \"#46039f\"], [0.2222222222222222, \"#7201a8\"], [0.3333333333333333, \"#9c179e\"], [0.4444444444444444, \"#bd3786\"], [0.5555555555555556, \"#d8576b\"], [0.6666666666666666, \"#ed7953\"], [0.7777777777777778, \"#fb9f3a\"], [0.8888888888888888, \"#fdca26\"], [1.0, \"#f0f921\"]], \"type\": \"histogram2d\"}], \"histogram2dcontour\": [{\"colorbar\": {\"outlinewidth\": 0, \"ticks\": \"\"}, \"colorscale\": [[0.0, \"#0d0887\"], [0.1111111111111111, \"#46039f\"], [0.2222222222222222, \"#7201a8\"], [0.3333333333333333, \"#9c179e\"], [0.4444444444444444, \"#bd3786\"], [0.5555555555555556, \"#d8576b\"], [0.6666666666666666, \"#ed7953\"], [0.7777777777777778, \"#fb9f3a\"], [0.8888888888888888, \"#fdca26\"], [1.0, \"#f0f921\"]], \"type\": \"histogram2dcontour\"}], \"mesh3d\": [{\"colorbar\": {\"outlinewidth\": 0, \"ticks\": \"\"}, \"type\": \"mesh3d\"}], \"parcoords\": [{\"line\": {\"colorbar\": {\"outlinewidth\": 0, \"ticks\": \"\"}}, \"type\": \"parcoords\"}], \"pie\": [{\"automargin\": true, \"type\": \"pie\"}], \"scatter\": [{\"marker\": {\"colorbar\": {\"outlinewidth\": 0, \"ticks\": \"\"}}, \"type\": \"scatter\"}], \"scatter3d\": [{\"line\": {\"colorbar\": {\"outlinewidth\": 0, \"ticks\": \"\"}}, \"marker\": {\"colorbar\": {\"outlinewidth\": 0, \"ticks\": \"\"}}, \"type\": \"scatter3d\"}], \"scattercarpet\": [{\"marker\": {\"colorbar\": {\"outlinewidth\": 0, \"ticks\": \"\"}}, \"type\": \"scattercarpet\"}], \"scattergeo\": [{\"marker\": {\"colorbar\": {\"outlinewidth\": 0, \"ticks\": \"\"}}, \"type\": \"scattergeo\"}], \"scattergl\": [{\"marker\": {\"colorbar\": {\"outlinewidth\": 0, \"ticks\": \"\"}}, \"type\": \"scattergl\"}], \"scattermapbox\": [{\"marker\": {\"colorbar\": {\"outlinewidth\": 0, \"ticks\": \"\"}}, \"type\": \"scattermapbox\"}], \"scatterpolar\": [{\"marker\": {\"colorbar\": {\"outlinewidth\": 0, \"ticks\": \"\"}}, \"type\": \"scatterpolar\"}], \"scatterpolargl\": [{\"marker\": {\"colorbar\": {\"outlinewidth\": 0, \"ticks\": \"\"}}, \"type\": \"scatterpolargl\"}], \"scatterternary\": [{\"marker\": {\"colorbar\": {\"outlinewidth\": 0, \"ticks\": \"\"}}, \"type\": \"scatterternary\"}], \"surface\": [{\"colorbar\": {\"outlinewidth\": 0, \"ticks\": \"\"}, \"colorscale\": [[0.0, \"#0d0887\"], [0.1111111111111111, \"#46039f\"], [0.2222222222222222, \"#7201a8\"], [0.3333333333333333, \"#9c179e\"], [0.4444444444444444, \"#bd3786\"], [0.5555555555555556, \"#d8576b\"], [0.6666666666666666, \"#ed7953\"], [0.7777777777777778, \"#fb9f3a\"], [0.8888888888888888, \"#fdca26\"], [1.0, \"#f0f921\"]], \"type\": \"surface\"}], \"table\": [{\"cells\": {\"fill\": {\"color\": \"#EBF0F8\"}, \"line\": {\"color\": \"white\"}}, \"header\": {\"fill\": {\"color\": \"#C8D4E3\"}, \"line\": {\"color\": \"white\"}}, \"type\": \"table\"}]}, \"layout\": {\"annotationdefaults\": {\"arrowcolor\": \"#2a3f5f\", \"arrowhead\": 0, \"arrowwidth\": 1}, \"coloraxis\": {\"colorbar\": {\"outlinewidth\": 0, \"ticks\": \"\"}}, \"colorscale\": {\"diverging\": [[0, \"#8e0152\"], [0.1, \"#c51b7d\"], [0.2, \"#de77ae\"], [0.3, \"#f1b6da\"], [0.4, \"#fde0ef\"], [0.5, \"#f7f7f7\"], [0.6, \"#e6f5d0\"], [0.7, \"#b8e186\"], [0.8, \"#7fbc41\"], [0.9, \"#4d9221\"], [1, \"#276419\"]], \"sequential\": [[0.0, \"#0d0887\"], [0.1111111111111111, \"#46039f\"], [0.2222222222222222, \"#7201a8\"], [0.3333333333333333, \"#9c179e\"], [0.4444444444444444, \"#bd3786\"], [0.5555555555555556, \"#d8576b\"], [0.6666666666666666, \"#ed7953\"], [0.7777777777777778, \"#fb9f3a\"], [0.8888888888888888, \"#fdca26\"], [1.0, \"#f0f921\"]], \"sequentialminus\": [[0.0, \"#0d0887\"], [0.1111111111111111, \"#46039f\"], [0.2222222222222222, \"#7201a8\"], [0.3333333333333333, \"#9c179e\"], [0.4444444444444444, \"#bd3786\"], [0.5555555555555556, \"#d8576b\"], [0.6666666666666666, \"#ed7953\"], [0.7777777777777778, \"#fb9f3a\"], [0.8888888888888888, \"#fdca26\"], [1.0, \"#f0f921\"]]}, \"colorway\": [\"#636efa\", \"#EF553B\", \"#00cc96\", \"#ab63fa\", \"#FFA15A\", \"#19d3f3\", \"#FF6692\", \"#B6E880\", \"#FF97FF\", \"#FECB52\"], \"font\": {\"color\": \"#2a3f5f\"}, \"geo\": {\"bgcolor\": \"white\", \"lakecolor\": \"white\", \"landcolor\": \"#E5ECF6\", \"showlakes\": true, \"showland\": true, \"subunitcolor\": \"white\"}, \"hoverlabel\": {\"align\": \"left\"}, \"hovermode\": \"closest\", \"mapbox\": {\"style\": \"light\"}, \"paper_bgcolor\": \"white\", \"plot_bgcolor\": \"#E5ECF6\", \"polar\": {\"angularaxis\": {\"gridcolor\": \"white\", \"linecolor\": \"white\", \"ticks\": \"\"}, \"bgcolor\": \"#E5ECF6\", \"radialaxis\": {\"gridcolor\": \"white\", \"linecolor\": \"white\", \"ticks\": \"\"}}, \"scene\": {\"xaxis\": {\"backgroundcolor\": \"#E5ECF6\", \"gridcolor\": \"white\", \"gridwidth\": 2, \"linecolor\": \"white\", \"showbackground\": true, \"ticks\": \"\", \"zerolinecolor\": \"white\"}, \"yaxis\": {\"backgroundcolor\": \"#E5ECF6\", \"gridcolor\": \"white\", \"gridwidth\": 2, \"linecolor\": \"white\", \"showbackground\": true, \"ticks\": \"\", \"zerolinecolor\": \"white\"}, \"zaxis\": {\"backgroundcolor\": \"#E5ECF6\", \"gridcolor\": \"white\", \"gridwidth\": 2, \"linecolor\": \"white\", \"showbackground\": true, \"ticks\": \"\", \"zerolinecolor\": \"white\"}}, \"shapedefaults\": {\"line\": {\"color\": \"#2a3f5f\"}}, \"ternary\": {\"aaxis\": {\"gridcolor\": \"white\", \"linecolor\": \"white\", \"ticks\": \"\"}, \"baxis\": {\"gridcolor\": \"white\", \"linecolor\": \"white\", \"ticks\": \"\"}, \"bgcolor\": \"#E5ECF6\", \"caxis\": {\"gridcolor\": \"white\", \"linecolor\": \"white\", \"ticks\": \"\"}}, \"title\": {\"x\": 0.05}, \"xaxis\": {\"automargin\": true, \"gridcolor\": \"white\", \"linecolor\": \"white\", \"ticks\": \"\", \"title\": {\"standoff\": 15}, \"zerolinecolor\": \"white\", \"zerolinewidth\": 2}, \"yaxis\": {\"automargin\": true, \"gridcolor\": \"white\", \"linecolor\": \"white\", \"ticks\": \"\", \"title\": {\"standoff\": 15}, \"zerolinecolor\": \"white\", \"zerolinewidth\": 2}}}, \"title\": {\"text\": \"Hyperparameter tunning\"}, \"width\": 800, \"xaxis\": {\"anchor\": \"y\", \"domain\": [0.0, 0.94], \"rangeslider\": {\"visible\": true}, \"tickangle\": -90}, \"yaxis\": {\"anchor\": \"x\", \"domain\": [0.0, 1.0]}, \"yaxis2\": {\"anchor\": \"x\", \"overlaying\": \"y\", \"side\": \"right\"}},\n",
              "                        {\"responsive\": true}\n",
              "                    ).then(function(){\n",
              "                            \n",
              "var gd = document.getElementById('db4fb46f-f8b9-40af-8600-7269cc174ff4');\n",
              "var x = new MutationObserver(function (mutations, observer) {{\n",
              "        var display = window.getComputedStyle(gd).display;\n",
              "        if (!display || display === 'none') {{\n",
              "            console.log([gd, 'removed!']);\n",
              "            Plotly.purge(gd);\n",
              "            observer.disconnect();\n",
              "        }}\n",
              "}});\n",
              "\n",
              "// Listen for the removal of the full notebook cells\n",
              "var notebookContainer = gd.closest('#notebook-container');\n",
              "if (notebookContainer) {{\n",
              "    x.observe(notebookContainer, {childList: true});\n",
              "}}\n",
              "\n",
              "// Listen for the clearing of the current output cell\n",
              "var outputEl = gd.closest('.output');\n",
              "if (outputEl) {{\n",
              "    x.observe(outputEl, {childList: true});\n",
              "}}\n",
              "\n",
              "                        })\n",
              "                };\n",
              "                \n",
              "            </script>\n",
              "        </div>\n",
              "</body>\n",
              "</html>"
            ]
          },
          "metadata": {
            "tags": []
          }
        }
      ]
    },
    {
      "cell_type": "markdown",
      "metadata": {
        "id": "2WBTvb6EGvjU"
      },
      "source": [
        "* n_estimeter:100     and    learning rate:0.2\n",
        "  * train_scores:1.765594\n",
        "  * CV_train=1.716439"
      ]
    },
    {
      "cell_type": "markdown",
      "metadata": {
        "id": "RIbroCrYLh-x"
      },
      "source": [
        "### Now its time to train our model on best hyperparameter (without StandardScaler)"
      ]
    },
    {
      "cell_type": "code",
      "metadata": {
        "colab": {
          "base_uri": "https://localhost:8080/",
          "height": 437
        },
        "id": "u4DVmhNqfXIX",
        "outputId": "96fce18f-26de-4dc2-bd48-819a894a3022"
      },
      "source": [
        "x_train"
      ],
      "execution_count": null,
      "outputs": [
        {
          "output_type": "execute_result",
          "data": {
            "text/html": [
              "<div>\n",
              "<style scoped>\n",
              "    .dataframe tbody tr th:only-of-type {\n",
              "        vertical-align: middle;\n",
              "    }\n",
              "\n",
              "    .dataframe tbody tr th {\n",
              "        vertical-align: top;\n",
              "    }\n",
              "\n",
              "    .dataframe thead th {\n",
              "        text-align: right;\n",
              "    }\n",
              "</style>\n",
              "<table border=\"1\" class=\"dataframe\">\n",
              "  <thead>\n",
              "    <tr style=\"text-align: right;\">\n",
              "      <th></th>\n",
              "      <th>wday</th>\n",
              "      <th>month</th>\n",
              "      <th>snap_CA</th>\n",
              "      <th>snap_TX</th>\n",
              "      <th>snap_WI</th>\n",
              "      <th>is_high_sale_months</th>\n",
              "      <th>is_high_sale_day</th>\n",
              "      <th>is_christmas</th>\n",
              "      <th>lag_1</th>\n",
              "      <th>lag_7</th>\n",
              "      <th>lag_14</th>\n",
              "      <th>lag_21</th>\n",
              "      <th>lag_28</th>\n",
              "      <th>lag_35</th>\n",
              "      <th>lag_42</th>\n",
              "      <th>lag_49</th>\n",
              "      <th>lag_56</th>\n",
              "      <th>lag_63</th>\n",
              "      <th>lag_70</th>\n",
              "      <th>rolling_mean_7</th>\n",
              "      <th>rolling_mean_14</th>\n",
              "      <th>rolling_mean_21</th>\n",
              "      <th>rolling_mean_28</th>\n",
              "      <th>rolling_mean_35</th>\n",
              "      <th>rolling_mean_42</th>\n",
              "      <th>expanding_mean</th>\n",
              "      <th>event_type_1_</th>\n",
              "      <th>event_type_2_</th>\n",
              "      <th>dept_id_</th>\n",
              "      <th>cat_id_</th>\n",
              "      <th>store_id_</th>\n",
              "      <th>state_id_</th>\n",
              "      <th>price</th>\n",
              "    </tr>\n",
              "  </thead>\n",
              "  <tbody>\n",
              "    <tr>\n",
              "      <th>27898350</th>\n",
              "      <td>6</td>\n",
              "      <td>8</td>\n",
              "      <td>1</td>\n",
              "      <td>1</td>\n",
              "      <td>0</td>\n",
              "      <td>0</td>\n",
              "      <td>0</td>\n",
              "      <td>0</td>\n",
              "      <td>0.0</td>\n",
              "      <td>0.0</td>\n",
              "      <td>1.0</td>\n",
              "      <td>0.0</td>\n",
              "      <td>0.0</td>\n",
              "      <td>0.0</td>\n",
              "      <td>0.0</td>\n",
              "      <td>0.0</td>\n",
              "      <td>0.0</td>\n",
              "      <td>0.0</td>\n",
              "      <td>0.0</td>\n",
              "      <td>0.000000</td>\n",
              "      <td>0.000000</td>\n",
              "      <td>0.047619</td>\n",
              "      <td>0.035706</td>\n",
              "      <td>0.028564</td>\n",
              "      <td>0.023804</td>\n",
              "      <td>0.001092</td>\n",
              "      <td>2</td>\n",
              "      <td>1</td>\n",
              "      <td>3</td>\n",
              "      <td>1</td>\n",
              "      <td>0</td>\n",
              "      <td>0</td>\n",
              "      <td>8.257812</td>\n",
              "    </tr>\n",
              "    <tr>\n",
              "      <th>27898351</th>\n",
              "      <td>6</td>\n",
              "      <td>8</td>\n",
              "      <td>1</td>\n",
              "      <td>1</td>\n",
              "      <td>0</td>\n",
              "      <td>0</td>\n",
              "      <td>0</td>\n",
              "      <td>0</td>\n",
              "      <td>0.0</td>\n",
              "      <td>0.0</td>\n",
              "      <td>0.0</td>\n",
              "      <td>2.0</td>\n",
              "      <td>0.0</td>\n",
              "      <td>0.0</td>\n",
              "      <td>0.0</td>\n",
              "      <td>0.0</td>\n",
              "      <td>0.0</td>\n",
              "      <td>0.0</td>\n",
              "      <td>0.0</td>\n",
              "      <td>0.000000</td>\n",
              "      <td>0.214233</td>\n",
              "      <td>0.190476</td>\n",
              "      <td>0.250000</td>\n",
              "      <td>0.285645</td>\n",
              "      <td>0.261963</td>\n",
              "      <td>0.221558</td>\n",
              "      <td>2</td>\n",
              "      <td>1</td>\n",
              "      <td>3</td>\n",
              "      <td>1</td>\n",
              "      <td>0</td>\n",
              "      <td>0</td>\n",
              "      <td>3.970703</td>\n",
              "    </tr>\n",
              "    <tr>\n",
              "      <th>27898352</th>\n",
              "      <td>6</td>\n",
              "      <td>8</td>\n",
              "      <td>1</td>\n",
              "      <td>1</td>\n",
              "      <td>0</td>\n",
              "      <td>0</td>\n",
              "      <td>0</td>\n",
              "      <td>0</td>\n",
              "      <td>0.0</td>\n",
              "      <td>0.0</td>\n",
              "      <td>0.0</td>\n",
              "      <td>0.0</td>\n",
              "      <td>0.0</td>\n",
              "      <td>0.0</td>\n",
              "      <td>0.0</td>\n",
              "      <td>0.0</td>\n",
              "      <td>0.0</td>\n",
              "      <td>0.0</td>\n",
              "      <td>0.0</td>\n",
              "      <td>0.000000</td>\n",
              "      <td>0.000000</td>\n",
              "      <td>0.000000</td>\n",
              "      <td>0.000000</td>\n",
              "      <td>0.000000</td>\n",
              "      <td>0.000000</td>\n",
              "      <td>0.000000</td>\n",
              "      <td>2</td>\n",
              "      <td>1</td>\n",
              "      <td>3</td>\n",
              "      <td>1</td>\n",
              "      <td>0</td>\n",
              "      <td>0</td>\n",
              "      <td>0.000000</td>\n",
              "    </tr>\n",
              "    <tr>\n",
              "      <th>27898353</th>\n",
              "      <td>6</td>\n",
              "      <td>8</td>\n",
              "      <td>1</td>\n",
              "      <td>1</td>\n",
              "      <td>0</td>\n",
              "      <td>0</td>\n",
              "      <td>0</td>\n",
              "      <td>0</td>\n",
              "      <td>2.0</td>\n",
              "      <td>1.0</td>\n",
              "      <td>0.0</td>\n",
              "      <td>0.0</td>\n",
              "      <td>0.0</td>\n",
              "      <td>1.0</td>\n",
              "      <td>0.0</td>\n",
              "      <td>0.0</td>\n",
              "      <td>1.0</td>\n",
              "      <td>0.0</td>\n",
              "      <td>0.0</td>\n",
              "      <td>2.142578</td>\n",
              "      <td>1.786133</td>\n",
              "      <td>1.190476</td>\n",
              "      <td>0.964355</td>\n",
              "      <td>1.028320</td>\n",
              "      <td>1.023438</td>\n",
              "      <td>1.215820</td>\n",
              "      <td>2</td>\n",
              "      <td>1</td>\n",
              "      <td>3</td>\n",
              "      <td>1</td>\n",
              "      <td>0</td>\n",
              "      <td>0</td>\n",
              "      <td>4.640625</td>\n",
              "    </tr>\n",
              "    <tr>\n",
              "      <th>27898354</th>\n",
              "      <td>6</td>\n",
              "      <td>8</td>\n",
              "      <td>1</td>\n",
              "      <td>1</td>\n",
              "      <td>0</td>\n",
              "      <td>0</td>\n",
              "      <td>0</td>\n",
              "      <td>0</td>\n",
              "      <td>0.0</td>\n",
              "      <td>0.0</td>\n",
              "      <td>1.0</td>\n",
              "      <td>5.0</td>\n",
              "      <td>0.0</td>\n",
              "      <td>4.0</td>\n",
              "      <td>0.0</td>\n",
              "      <td>2.0</td>\n",
              "      <td>0.0</td>\n",
              "      <td>0.0</td>\n",
              "      <td>3.0</td>\n",
              "      <td>1.286133</td>\n",
              "      <td>1.071289</td>\n",
              "      <td>1.000000</td>\n",
              "      <td>1.321289</td>\n",
              "      <td>1.200195</td>\n",
              "      <td>1.119141</td>\n",
              "      <td>0.877930</td>\n",
              "      <td>2</td>\n",
              "      <td>1</td>\n",
              "      <td>3</td>\n",
              "      <td>1</td>\n",
              "      <td>0</td>\n",
              "      <td>0</td>\n",
              "      <td>3.080078</td>\n",
              "    </tr>\n",
              "    <tr>\n",
              "      <th>...</th>\n",
              "      <td>...</td>\n",
              "      <td>...</td>\n",
              "      <td>...</td>\n",
              "      <td>...</td>\n",
              "      <td>...</td>\n",
              "      <td>...</td>\n",
              "      <td>...</td>\n",
              "      <td>...</td>\n",
              "      <td>...</td>\n",
              "      <td>...</td>\n",
              "      <td>...</td>\n",
              "      <td>...</td>\n",
              "      <td>...</td>\n",
              "      <td>...</td>\n",
              "      <td>...</td>\n",
              "      <td>...</td>\n",
              "      <td>...</td>\n",
              "      <td>...</td>\n",
              "      <td>...</td>\n",
              "      <td>...</td>\n",
              "      <td>...</td>\n",
              "      <td>...</td>\n",
              "      <td>...</td>\n",
              "      <td>...</td>\n",
              "      <td>...</td>\n",
              "      <td>...</td>\n",
              "      <td>...</td>\n",
              "      <td>...</td>\n",
              "      <td>...</td>\n",
              "      <td>...</td>\n",
              "      <td>...</td>\n",
              "      <td>...</td>\n",
              "      <td>...</td>\n",
              "    </tr>\n",
              "    <tr>\n",
              "      <th>57473645</th>\n",
              "      <td>2</td>\n",
              "      <td>3</td>\n",
              "      <td>0</td>\n",
              "      <td>0</td>\n",
              "      <td>0</td>\n",
              "      <td>1</td>\n",
              "      <td>1</td>\n",
              "      <td>0</td>\n",
              "      <td>0.0</td>\n",
              "      <td>0.0</td>\n",
              "      <td>0.0</td>\n",
              "      <td>1.0</td>\n",
              "      <td>1.0</td>\n",
              "      <td>0.0</td>\n",
              "      <td>0.0</td>\n",
              "      <td>3.0</td>\n",
              "      <td>0.0</td>\n",
              "      <td>1.0</td>\n",
              "      <td>0.0</td>\n",
              "      <td>0.000000</td>\n",
              "      <td>0.000000</td>\n",
              "      <td>0.095238</td>\n",
              "      <td>0.250000</td>\n",
              "      <td>0.257080</td>\n",
              "      <td>0.309570</td>\n",
              "      <td>0.539062</td>\n",
              "      <td>0</td>\n",
              "      <td>1</td>\n",
              "      <td>2</td>\n",
              "      <td>0</td>\n",
              "      <td>9</td>\n",
              "      <td>2</td>\n",
              "      <td>2.980469</td>\n",
              "    </tr>\n",
              "    <tr>\n",
              "      <th>57473646</th>\n",
              "      <td>2</td>\n",
              "      <td>3</td>\n",
              "      <td>0</td>\n",
              "      <td>0</td>\n",
              "      <td>0</td>\n",
              "      <td>1</td>\n",
              "      <td>1</td>\n",
              "      <td>0</td>\n",
              "      <td>0.0</td>\n",
              "      <td>0.0</td>\n",
              "      <td>0.0</td>\n",
              "      <td>0.0</td>\n",
              "      <td>0.0</td>\n",
              "      <td>0.0</td>\n",
              "      <td>0.0</td>\n",
              "      <td>0.0</td>\n",
              "      <td>0.0</td>\n",
              "      <td>0.0</td>\n",
              "      <td>0.0</td>\n",
              "      <td>0.000000</td>\n",
              "      <td>0.000000</td>\n",
              "      <td>0.000000</td>\n",
              "      <td>0.000000</td>\n",
              "      <td>0.000000</td>\n",
              "      <td>0.000000</td>\n",
              "      <td>0.377197</td>\n",
              "      <td>0</td>\n",
              "      <td>1</td>\n",
              "      <td>2</td>\n",
              "      <td>0</td>\n",
              "      <td>9</td>\n",
              "      <td>2</td>\n",
              "      <td>2.000000</td>\n",
              "    </tr>\n",
              "    <tr>\n",
              "      <th>57473647</th>\n",
              "      <td>2</td>\n",
              "      <td>3</td>\n",
              "      <td>0</td>\n",
              "      <td>0</td>\n",
              "      <td>0</td>\n",
              "      <td>1</td>\n",
              "      <td>1</td>\n",
              "      <td>0</td>\n",
              "      <td>0.0</td>\n",
              "      <td>0.0</td>\n",
              "      <td>1.0</td>\n",
              "      <td>2.0</td>\n",
              "      <td>0.0</td>\n",
              "      <td>0.0</td>\n",
              "      <td>1.0</td>\n",
              "      <td>1.0</td>\n",
              "      <td>2.0</td>\n",
              "      <td>1.0</td>\n",
              "      <td>1.0</td>\n",
              "      <td>0.714355</td>\n",
              "      <td>0.856934</td>\n",
              "      <td>1.047619</td>\n",
              "      <td>1.250000</td>\n",
              "      <td>1.085938</td>\n",
              "      <td>1.000000</td>\n",
              "      <td>0.895020</td>\n",
              "      <td>0</td>\n",
              "      <td>1</td>\n",
              "      <td>2</td>\n",
              "      <td>0</td>\n",
              "      <td>9</td>\n",
              "      <td>2</td>\n",
              "      <td>3.980469</td>\n",
              "    </tr>\n",
              "    <tr>\n",
              "      <th>57473648</th>\n",
              "      <td>2</td>\n",
              "      <td>3</td>\n",
              "      <td>0</td>\n",
              "      <td>0</td>\n",
              "      <td>0</td>\n",
              "      <td>1</td>\n",
              "      <td>1</td>\n",
              "      <td>0</td>\n",
              "      <td>2.0</td>\n",
              "      <td>1.0</td>\n",
              "      <td>3.0</td>\n",
              "      <td>2.0</td>\n",
              "      <td>0.0</td>\n",
              "      <td>0.0</td>\n",
              "      <td>2.0</td>\n",
              "      <td>1.0</td>\n",
              "      <td>3.0</td>\n",
              "      <td>0.0</td>\n",
              "      <td>4.0</td>\n",
              "      <td>1.571289</td>\n",
              "      <td>1.357422</td>\n",
              "      <td>1.095238</td>\n",
              "      <td>1.250000</td>\n",
              "      <td>1.000000</td>\n",
              "      <td>1.047852</td>\n",
              "      <td>0.358643</td>\n",
              "      <td>0</td>\n",
              "      <td>1</td>\n",
              "      <td>2</td>\n",
              "      <td>0</td>\n",
              "      <td>9</td>\n",
              "      <td>2</td>\n",
              "      <td>1.280273</td>\n",
              "    </tr>\n",
              "    <tr>\n",
              "      <th>57473649</th>\n",
              "      <td>2</td>\n",
              "      <td>3</td>\n",
              "      <td>0</td>\n",
              "      <td>0</td>\n",
              "      <td>0</td>\n",
              "      <td>1</td>\n",
              "      <td>1</td>\n",
              "      <td>0</td>\n",
              "      <td>0.0</td>\n",
              "      <td>4.0</td>\n",
              "      <td>4.0</td>\n",
              "      <td>0.0</td>\n",
              "      <td>0.0</td>\n",
              "      <td>2.0</td>\n",
              "      <td>1.0</td>\n",
              "      <td>2.0</td>\n",
              "      <td>1.0</td>\n",
              "      <td>0.0</td>\n",
              "      <td>2.0</td>\n",
              "      <td>2.427734</td>\n",
              "      <td>2.285156</td>\n",
              "      <td>1.904762</td>\n",
              "      <td>1.963867</td>\n",
              "      <td>1.828125</td>\n",
              "      <td>1.738281</td>\n",
              "      <td>0.688965</td>\n",
              "      <td>0</td>\n",
              "      <td>1</td>\n",
              "      <td>2</td>\n",
              "      <td>0</td>\n",
              "      <td>9</td>\n",
              "      <td>2</td>\n",
              "      <td>1.000000</td>\n",
              "    </tr>\n",
              "  </tbody>\n",
              "</table>\n",
              "<p>29575300 rows × 33 columns</p>\n",
              "</div>"
            ],
            "text/plain": [
              "          wday  month  snap_CA  ...  store_id_  state_id_     price\n",
              "27898350     6      8        1  ...          0          0  8.257812\n",
              "27898351     6      8        1  ...          0          0  3.970703\n",
              "27898352     6      8        1  ...          0          0  0.000000\n",
              "27898353     6      8        1  ...          0          0  4.640625\n",
              "27898354     6      8        1  ...          0          0  3.080078\n",
              "...        ...    ...      ...  ...        ...        ...       ...\n",
              "57473645     2      3        0  ...          9          2  2.980469\n",
              "57473646     2      3        0  ...          9          2  2.000000\n",
              "57473647     2      3        0  ...          9          2  3.980469\n",
              "57473648     2      3        0  ...          9          2  1.280273\n",
              "57473649     2      3        0  ...          9          2  1.000000\n",
              "\n",
              "[29575300 rows x 33 columns]"
            ]
          },
          "metadata": {
            "tags": []
          },
          "execution_count": 68
        }
      ]
    },
    {
      "cell_type": "code",
      "metadata": {
        "id": "pXn9v86rLh-6",
        "colab": {
          "base_uri": "https://localhost:8080/"
        },
        "outputId": "20b0c4ba-88bc-438d-be7c-f68c59876752"
      },
      "source": [
        "clf=LGBMRegressor(learning_rate=0.2,n_estimators=100)\n",
        "clf.fit(x_train,y_train)\n",
        "y_predict=clf.predict(x_test)\n",
        "RMSE=mean_squared_error(y_test, y_predict, squared=False)\n",
        "print('RMSE score on LGBM :',RMSE)"
      ],
      "execution_count": null,
      "outputs": [
        {
          "output_type": "stream",
          "text": [
            "RMSE score on LGBM : 1.738475431991473\n"
          ],
          "name": "stdout"
        }
      ]
    },
    {
      "cell_type": "code",
      "metadata": {
        "colab": {
          "base_uri": "https://localhost:8080/"
        },
        "id": "OCRHSPEk2Ym0",
        "outputId": "9b4e7334-7711-49c0-ac37-1d9658e6b3f3"
      },
      "source": [
        "imp=clf.feature_importances_\n",
        "imp"
      ],
      "execution_count": null,
      "outputs": [
        {
          "output_type": "execute_result",
          "data": {
            "text/plain": [
              "array([156,  84,  32,  18,  38,   5,  54,  39, 380, 170, 113,  87, 103,\n",
              "        90,  78,  81,  75,  73,  95, 559, 106,  71,  38,  23,  77,  57,\n",
              "        28,   0,  43,   1,  88,   1, 137])"
            ]
          },
          "metadata": {
            "tags": []
          },
          "execution_count": 14
        }
      ]
    },
    {
      "cell_type": "code",
      "metadata": {
        "colab": {
          "base_uri": "https://localhost:8080/"
        },
        "id": "H0RkT8ktvMPZ",
        "outputId": "9312605f-4321-4880-98d3-cafe51a79672"
      },
      "source": [
        "len(x_train.columns)"
      ],
      "execution_count": null,
      "outputs": [
        {
          "output_type": "execute_result",
          "data": {
            "text/plain": [
              "33"
            ]
          },
          "metadata": {
            "tags": []
          },
          "execution_count": 148
        }
      ]
    },
    {
      "cell_type": "code",
      "metadata": {
        "id": "R6OVziovXKhG"
      },
      "source": [
        "features=['wday', 'month', 'snap_CA', 'snap_TX', 'snap_WI', 'is_high_sale_months',\n",
        "       'is_high_sale_day', 'is_christmas', 'lag_1', 'lag_7', 'lag_14',\n",
        "       'lag_21', 'lag_28', 'lag_35', 'lag_42', 'lag_49', 'lag_56', 'lag_63',\n",
        "       'lag_70', 'rolling_mean_7', 'rolling_mean_14', 'rolling_mean_21',\n",
        "       'rolling_mean_28', 'rolling_mean_35', 'rolling_mean_42',\n",
        "       'expanding_mean', 'event_type_1_', 'event_type_2_', 'dept_id_',\n",
        "       'cat_id_', 'store_id_', 'state_id_', 'price']"
      ],
      "execution_count": null,
      "outputs": []
    },
    {
      "cell_type": "code",
      "metadata": {
        "id": "ZV5yrosqv8Y8"
      },
      "source": [
        "data_=pd.DataFrame({'score':imp,'Features':features})"
      ],
      "execution_count": null,
      "outputs": []
    },
    {
      "cell_type": "code",
      "metadata": {
        "id": "zjCPRJUrNp82"
      },
      "source": [
        "data_=data_.sort_values(by='score',ignore_index=True)"
      ],
      "execution_count": null,
      "outputs": []
    },
    {
      "cell_type": "code",
      "metadata": {
        "colab": {
          "base_uri": "https://localhost:8080/",
          "height": 1000
        },
        "id": "ZBx2Z7aXNq_m",
        "outputId": "4dd0bf4d-70d9-474e-a556-48c0eca49027"
      },
      "source": [
        "data_"
      ],
      "execution_count": null,
      "outputs": [
        {
          "output_type": "execute_result",
          "data": {
            "text/html": [
              "<div>\n",
              "<style scoped>\n",
              "    .dataframe tbody tr th:only-of-type {\n",
              "        vertical-align: middle;\n",
              "    }\n",
              "\n",
              "    .dataframe tbody tr th {\n",
              "        vertical-align: top;\n",
              "    }\n",
              "\n",
              "    .dataframe thead th {\n",
              "        text-align: right;\n",
              "    }\n",
              "</style>\n",
              "<table border=\"1\" class=\"dataframe\">\n",
              "  <thead>\n",
              "    <tr style=\"text-align: right;\">\n",
              "      <th></th>\n",
              "      <th>score</th>\n",
              "      <th>Features</th>\n",
              "    </tr>\n",
              "  </thead>\n",
              "  <tbody>\n",
              "    <tr>\n",
              "      <th>0</th>\n",
              "      <td>0</td>\n",
              "      <td>event_type_2_</td>\n",
              "    </tr>\n",
              "    <tr>\n",
              "      <th>1</th>\n",
              "      <td>1</td>\n",
              "      <td>cat_id_</td>\n",
              "    </tr>\n",
              "    <tr>\n",
              "      <th>2</th>\n",
              "      <td>1</td>\n",
              "      <td>state_id_</td>\n",
              "    </tr>\n",
              "    <tr>\n",
              "      <th>3</th>\n",
              "      <td>5</td>\n",
              "      <td>is_high_sale_months</td>\n",
              "    </tr>\n",
              "    <tr>\n",
              "      <th>4</th>\n",
              "      <td>18</td>\n",
              "      <td>snap_TX</td>\n",
              "    </tr>\n",
              "    <tr>\n",
              "      <th>5</th>\n",
              "      <td>23</td>\n",
              "      <td>rolling_mean_35</td>\n",
              "    </tr>\n",
              "    <tr>\n",
              "      <th>6</th>\n",
              "      <td>28</td>\n",
              "      <td>event_type_1_</td>\n",
              "    </tr>\n",
              "    <tr>\n",
              "      <th>7</th>\n",
              "      <td>32</td>\n",
              "      <td>snap_CA</td>\n",
              "    </tr>\n",
              "    <tr>\n",
              "      <th>8</th>\n",
              "      <td>38</td>\n",
              "      <td>snap_WI</td>\n",
              "    </tr>\n",
              "    <tr>\n",
              "      <th>9</th>\n",
              "      <td>38</td>\n",
              "      <td>rolling_mean_28</td>\n",
              "    </tr>\n",
              "    <tr>\n",
              "      <th>10</th>\n",
              "      <td>39</td>\n",
              "      <td>is_christmas</td>\n",
              "    </tr>\n",
              "    <tr>\n",
              "      <th>11</th>\n",
              "      <td>43</td>\n",
              "      <td>dept_id_</td>\n",
              "    </tr>\n",
              "    <tr>\n",
              "      <th>12</th>\n",
              "      <td>54</td>\n",
              "      <td>is_high_sale_day</td>\n",
              "    </tr>\n",
              "    <tr>\n",
              "      <th>13</th>\n",
              "      <td>57</td>\n",
              "      <td>expanding_mean</td>\n",
              "    </tr>\n",
              "    <tr>\n",
              "      <th>14</th>\n",
              "      <td>71</td>\n",
              "      <td>rolling_mean_21</td>\n",
              "    </tr>\n",
              "    <tr>\n",
              "      <th>15</th>\n",
              "      <td>73</td>\n",
              "      <td>lag_63</td>\n",
              "    </tr>\n",
              "    <tr>\n",
              "      <th>16</th>\n",
              "      <td>75</td>\n",
              "      <td>lag_56</td>\n",
              "    </tr>\n",
              "    <tr>\n",
              "      <th>17</th>\n",
              "      <td>77</td>\n",
              "      <td>rolling_mean_42</td>\n",
              "    </tr>\n",
              "    <tr>\n",
              "      <th>18</th>\n",
              "      <td>78</td>\n",
              "      <td>lag_42</td>\n",
              "    </tr>\n",
              "    <tr>\n",
              "      <th>19</th>\n",
              "      <td>81</td>\n",
              "      <td>lag_49</td>\n",
              "    </tr>\n",
              "    <tr>\n",
              "      <th>20</th>\n",
              "      <td>84</td>\n",
              "      <td>month</td>\n",
              "    </tr>\n",
              "    <tr>\n",
              "      <th>21</th>\n",
              "      <td>87</td>\n",
              "      <td>lag_21</td>\n",
              "    </tr>\n",
              "    <tr>\n",
              "      <th>22</th>\n",
              "      <td>88</td>\n",
              "      <td>store_id_</td>\n",
              "    </tr>\n",
              "    <tr>\n",
              "      <th>23</th>\n",
              "      <td>90</td>\n",
              "      <td>lag_35</td>\n",
              "    </tr>\n",
              "    <tr>\n",
              "      <th>24</th>\n",
              "      <td>95</td>\n",
              "      <td>lag_70</td>\n",
              "    </tr>\n",
              "    <tr>\n",
              "      <th>25</th>\n",
              "      <td>103</td>\n",
              "      <td>lag_28</td>\n",
              "    </tr>\n",
              "    <tr>\n",
              "      <th>26</th>\n",
              "      <td>106</td>\n",
              "      <td>rolling_mean_14</td>\n",
              "    </tr>\n",
              "    <tr>\n",
              "      <th>27</th>\n",
              "      <td>113</td>\n",
              "      <td>lag_14</td>\n",
              "    </tr>\n",
              "    <tr>\n",
              "      <th>28</th>\n",
              "      <td>137</td>\n",
              "      <td>price</td>\n",
              "    </tr>\n",
              "    <tr>\n",
              "      <th>29</th>\n",
              "      <td>156</td>\n",
              "      <td>wday</td>\n",
              "    </tr>\n",
              "    <tr>\n",
              "      <th>30</th>\n",
              "      <td>170</td>\n",
              "      <td>lag_7</td>\n",
              "    </tr>\n",
              "    <tr>\n",
              "      <th>31</th>\n",
              "      <td>380</td>\n",
              "      <td>lag_1</td>\n",
              "    </tr>\n",
              "    <tr>\n",
              "      <th>32</th>\n",
              "      <td>559</td>\n",
              "      <td>rolling_mean_7</td>\n",
              "    </tr>\n",
              "  </tbody>\n",
              "</table>\n",
              "</div>"
            ],
            "text/plain": [
              "    score             Features\n",
              "0       0        event_type_2_\n",
              "1       1              cat_id_\n",
              "2       1            state_id_\n",
              "3       5  is_high_sale_months\n",
              "4      18              snap_TX\n",
              "5      23      rolling_mean_35\n",
              "6      28        event_type_1_\n",
              "7      32              snap_CA\n",
              "8      38              snap_WI\n",
              "9      38      rolling_mean_28\n",
              "10     39         is_christmas\n",
              "11     43             dept_id_\n",
              "12     54     is_high_sale_day\n",
              "13     57       expanding_mean\n",
              "14     71      rolling_mean_21\n",
              "15     73               lag_63\n",
              "16     75               lag_56\n",
              "17     77      rolling_mean_42\n",
              "18     78               lag_42\n",
              "19     81               lag_49\n",
              "20     84                month\n",
              "21     87               lag_21\n",
              "22     88            store_id_\n",
              "23     90               lag_35\n",
              "24     95               lag_70\n",
              "25    103               lag_28\n",
              "26    106      rolling_mean_14\n",
              "27    113               lag_14\n",
              "28    137                price\n",
              "29    156                 wday\n",
              "30    170                lag_7\n",
              "31    380                lag_1\n",
              "32    559       rolling_mean_7"
            ]
          },
          "metadata": {
            "tags": []
          },
          "execution_count": 151
        }
      ]
    },
    {
      "cell_type": "code",
      "metadata": {
        "colab": {
          "base_uri": "https://localhost:8080/",
          "height": 717
        },
        "id": "V3SVUyxCIrBL",
        "outputId": "c77a2017-f2f6-4dfe-c74c-c069530fe1cc"
      },
      "source": [
        "import plotly.express as px\n",
        "df = px.data.tips()\n",
        "fig = px.bar(data_, x=\"score\", y=\"Features\", orientation='h')\n",
        "fig.update_layout(\n",
        "    autosize=False,\n",
        "    width=700,\n",
        "    height=700,\n",
        "    )\n",
        "fig.show()"
      ],
      "execution_count": null,
      "outputs": [
        {
          "output_type": "display_data",
          "data": {
            "text/html": [
              "<html>\n",
              "<head><meta charset=\"utf-8\" /></head>\n",
              "<body>\n",
              "    <div>\n",
              "            <script src=\"https://cdnjs.cloudflare.com/ajax/libs/mathjax/2.7.5/MathJax.js?config=TeX-AMS-MML_SVG\"></script><script type=\"text/javascript\">if (window.MathJax) {MathJax.Hub.Config({SVG: {font: \"STIX-Web\"}});}</script>\n",
              "                <script type=\"text/javascript\">window.PlotlyConfig = {MathJaxConfig: 'local'};</script>\n",
              "        <script src=\"https://cdn.plot.ly/plotly-latest.min.js\"></script>    \n",
              "            <div id=\"e29356c4-cc85-48e1-b321-c8ee9bf33502\" class=\"plotly-graph-div\" style=\"height:700px; width:700px;\"></div>\n",
              "            <script type=\"text/javascript\">\n",
              "                \n",
              "                    window.PLOTLYENV=window.PLOTLYENV || {};\n",
              "                    \n",
              "                if (document.getElementById(\"e29356c4-cc85-48e1-b321-c8ee9bf33502\")) {\n",
              "                    Plotly.newPlot(\n",
              "                        'e29356c4-cc85-48e1-b321-c8ee9bf33502',\n",
              "                        [{\"alignmentgroup\": \"True\", \"hoverlabel\": {\"namelength\": 0}, \"hovertemplate\": \"score=%{x}<br>Features=%{y}\", \"legendgroup\": \"\", \"marker\": {\"color\": \"#636efa\"}, \"name\": \"\", \"offsetgroup\": \"\", \"orientation\": \"h\", \"showlegend\": false, \"textposition\": \"auto\", \"type\": \"bar\", \"x\": [0, 1, 1, 5, 18, 23, 28, 32, 38, 38, 39, 43, 54, 57, 71, 73, 75, 77, 78, 81, 84, 87, 88, 90, 95, 103, 106, 113, 137, 156, 170, 380, 559], \"xaxis\": \"x\", \"y\": [\"event_type_2_\", \"cat_id_\", \"state_id_\", \"is_high_sale_months\", \"snap_TX\", \"rolling_mean_35\", \"event_type_1_\", \"snap_CA\", \"snap_WI\", \"rolling_mean_28\", \"is_christmas\", \"dept_id_\", \"is_high_sale_day\", \"expanding_mean\", \"rolling_mean_21\", \"lag_63\", \"lag_56\", \"rolling_mean_42\", \"lag_42\", \"lag_49\", \"month\", \"lag_21\", \"store_id_\", \"lag_35\", \"lag_70\", \"lag_28\", \"rolling_mean_14\", \"lag_14\", \"price\", \"wday\", \"lag_7\", \"lag_1\", \"rolling_mean_7\"], \"yaxis\": \"y\"}],\n",
              "                        {\"autosize\": false, \"barmode\": \"relative\", \"height\": 700, \"legend\": {\"tracegroupgap\": 0}, \"margin\": {\"t\": 60}, \"template\": {\"data\": {\"bar\": [{\"error_x\": {\"color\": \"#2a3f5f\"}, \"error_y\": {\"color\": \"#2a3f5f\"}, \"marker\": {\"line\": {\"color\": \"#E5ECF6\", \"width\": 0.5}}, \"type\": \"bar\"}], \"barpolar\": [{\"marker\": {\"line\": {\"color\": \"#E5ECF6\", \"width\": 0.5}}, \"type\": \"barpolar\"}], \"carpet\": [{\"aaxis\": {\"endlinecolor\": \"#2a3f5f\", \"gridcolor\": \"white\", \"linecolor\": \"white\", \"minorgridcolor\": \"white\", \"startlinecolor\": \"#2a3f5f\"}, \"baxis\": {\"endlinecolor\": \"#2a3f5f\", \"gridcolor\": \"white\", \"linecolor\": \"white\", \"minorgridcolor\": \"white\", \"startlinecolor\": \"#2a3f5f\"}, \"type\": \"carpet\"}], \"choropleth\": [{\"colorbar\": {\"outlinewidth\": 0, \"ticks\": \"\"}, \"type\": \"choropleth\"}], \"contour\": [{\"colorbar\": {\"outlinewidth\": 0, \"ticks\": \"\"}, \"colorscale\": [[0.0, \"#0d0887\"], [0.1111111111111111, \"#46039f\"], [0.2222222222222222, \"#7201a8\"], [0.3333333333333333, \"#9c179e\"], [0.4444444444444444, \"#bd3786\"], [0.5555555555555556, \"#d8576b\"], [0.6666666666666666, \"#ed7953\"], [0.7777777777777778, \"#fb9f3a\"], [0.8888888888888888, \"#fdca26\"], [1.0, \"#f0f921\"]], \"type\": \"contour\"}], \"contourcarpet\": [{\"colorbar\": {\"outlinewidth\": 0, \"ticks\": \"\"}, \"type\": \"contourcarpet\"}], \"heatmap\": [{\"colorbar\": {\"outlinewidth\": 0, \"ticks\": \"\"}, \"colorscale\": [[0.0, \"#0d0887\"], [0.1111111111111111, \"#46039f\"], [0.2222222222222222, \"#7201a8\"], [0.3333333333333333, \"#9c179e\"], [0.4444444444444444, \"#bd3786\"], [0.5555555555555556, \"#d8576b\"], [0.6666666666666666, \"#ed7953\"], [0.7777777777777778, \"#fb9f3a\"], [0.8888888888888888, \"#fdca26\"], [1.0, \"#f0f921\"]], \"type\": \"heatmap\"}], \"heatmapgl\": [{\"colorbar\": {\"outlinewidth\": 0, \"ticks\": \"\"}, \"colorscale\": [[0.0, \"#0d0887\"], [0.1111111111111111, \"#46039f\"], [0.2222222222222222, \"#7201a8\"], [0.3333333333333333, \"#9c179e\"], [0.4444444444444444, \"#bd3786\"], [0.5555555555555556, \"#d8576b\"], [0.6666666666666666, \"#ed7953\"], [0.7777777777777778, \"#fb9f3a\"], [0.8888888888888888, \"#fdca26\"], [1.0, \"#f0f921\"]], \"type\": \"heatmapgl\"}], \"histogram\": [{\"marker\": {\"colorbar\": {\"outlinewidth\": 0, \"ticks\": \"\"}}, \"type\": \"histogram\"}], \"histogram2d\": [{\"colorbar\": {\"outlinewidth\": 0, \"ticks\": \"\"}, \"colorscale\": [[0.0, \"#0d0887\"], [0.1111111111111111, \"#46039f\"], [0.2222222222222222, \"#7201a8\"], [0.3333333333333333, \"#9c179e\"], [0.4444444444444444, \"#bd3786\"], [0.5555555555555556, \"#d8576b\"], [0.6666666666666666, \"#ed7953\"], [0.7777777777777778, \"#fb9f3a\"], [0.8888888888888888, \"#fdca26\"], [1.0, \"#f0f921\"]], \"type\": \"histogram2d\"}], \"histogram2dcontour\": [{\"colorbar\": {\"outlinewidth\": 0, \"ticks\": \"\"}, \"colorscale\": [[0.0, \"#0d0887\"], [0.1111111111111111, \"#46039f\"], [0.2222222222222222, \"#7201a8\"], [0.3333333333333333, \"#9c179e\"], [0.4444444444444444, \"#bd3786\"], [0.5555555555555556, \"#d8576b\"], [0.6666666666666666, \"#ed7953\"], [0.7777777777777778, \"#fb9f3a\"], [0.8888888888888888, \"#fdca26\"], [1.0, \"#f0f921\"]], \"type\": \"histogram2dcontour\"}], \"mesh3d\": [{\"colorbar\": {\"outlinewidth\": 0, \"ticks\": \"\"}, \"type\": \"mesh3d\"}], \"parcoords\": [{\"line\": {\"colorbar\": {\"outlinewidth\": 0, \"ticks\": \"\"}}, \"type\": \"parcoords\"}], \"pie\": [{\"automargin\": true, \"type\": \"pie\"}], \"scatter\": [{\"marker\": {\"colorbar\": {\"outlinewidth\": 0, \"ticks\": \"\"}}, \"type\": \"scatter\"}], \"scatter3d\": [{\"line\": {\"colorbar\": {\"outlinewidth\": 0, \"ticks\": \"\"}}, \"marker\": {\"colorbar\": {\"outlinewidth\": 0, \"ticks\": \"\"}}, \"type\": \"scatter3d\"}], \"scattercarpet\": [{\"marker\": {\"colorbar\": {\"outlinewidth\": 0, \"ticks\": \"\"}}, \"type\": \"scattercarpet\"}], \"scattergeo\": [{\"marker\": {\"colorbar\": {\"outlinewidth\": 0, \"ticks\": \"\"}}, \"type\": \"scattergeo\"}], \"scattergl\": [{\"marker\": {\"colorbar\": {\"outlinewidth\": 0, \"ticks\": \"\"}}, \"type\": \"scattergl\"}], \"scattermapbox\": [{\"marker\": {\"colorbar\": {\"outlinewidth\": 0, \"ticks\": \"\"}}, \"type\": \"scattermapbox\"}], \"scatterpolar\": [{\"marker\": {\"colorbar\": {\"outlinewidth\": 0, \"ticks\": \"\"}}, \"type\": \"scatterpolar\"}], \"scatterpolargl\": [{\"marker\": {\"colorbar\": {\"outlinewidth\": 0, \"ticks\": \"\"}}, \"type\": \"scatterpolargl\"}], \"scatterternary\": [{\"marker\": {\"colorbar\": {\"outlinewidth\": 0, \"ticks\": \"\"}}, \"type\": \"scatterternary\"}], \"surface\": [{\"colorbar\": {\"outlinewidth\": 0, \"ticks\": \"\"}, \"colorscale\": [[0.0, \"#0d0887\"], [0.1111111111111111, \"#46039f\"], [0.2222222222222222, \"#7201a8\"], [0.3333333333333333, \"#9c179e\"], [0.4444444444444444, \"#bd3786\"], [0.5555555555555556, \"#d8576b\"], [0.6666666666666666, \"#ed7953\"], [0.7777777777777778, \"#fb9f3a\"], [0.8888888888888888, \"#fdca26\"], [1.0, \"#f0f921\"]], \"type\": \"surface\"}], \"table\": [{\"cells\": {\"fill\": {\"color\": \"#EBF0F8\"}, \"line\": {\"color\": \"white\"}}, \"header\": {\"fill\": {\"color\": \"#C8D4E3\"}, \"line\": {\"color\": \"white\"}}, \"type\": \"table\"}]}, \"layout\": {\"annotationdefaults\": {\"arrowcolor\": \"#2a3f5f\", \"arrowhead\": 0, \"arrowwidth\": 1}, \"coloraxis\": {\"colorbar\": {\"outlinewidth\": 0, \"ticks\": \"\"}}, \"colorscale\": {\"diverging\": [[0, \"#8e0152\"], [0.1, \"#c51b7d\"], [0.2, \"#de77ae\"], [0.3, \"#f1b6da\"], [0.4, \"#fde0ef\"], [0.5, \"#f7f7f7\"], [0.6, \"#e6f5d0\"], [0.7, \"#b8e186\"], [0.8, \"#7fbc41\"], [0.9, \"#4d9221\"], [1, \"#276419\"]], \"sequential\": [[0.0, \"#0d0887\"], [0.1111111111111111, \"#46039f\"], [0.2222222222222222, \"#7201a8\"], [0.3333333333333333, \"#9c179e\"], [0.4444444444444444, \"#bd3786\"], [0.5555555555555556, \"#d8576b\"], [0.6666666666666666, \"#ed7953\"], [0.7777777777777778, \"#fb9f3a\"], [0.8888888888888888, \"#fdca26\"], [1.0, \"#f0f921\"]], \"sequentialminus\": [[0.0, \"#0d0887\"], [0.1111111111111111, \"#46039f\"], [0.2222222222222222, \"#7201a8\"], [0.3333333333333333, \"#9c179e\"], [0.4444444444444444, \"#bd3786\"], [0.5555555555555556, \"#d8576b\"], [0.6666666666666666, \"#ed7953\"], [0.7777777777777778, \"#fb9f3a\"], [0.8888888888888888, \"#fdca26\"], [1.0, \"#f0f921\"]]}, \"colorway\": [\"#636efa\", \"#EF553B\", \"#00cc96\", \"#ab63fa\", \"#FFA15A\", \"#19d3f3\", \"#FF6692\", \"#B6E880\", \"#FF97FF\", \"#FECB52\"], \"font\": {\"color\": \"#2a3f5f\"}, \"geo\": {\"bgcolor\": \"white\", \"lakecolor\": \"white\", \"landcolor\": \"#E5ECF6\", \"showlakes\": true, \"showland\": true, \"subunitcolor\": \"white\"}, \"hoverlabel\": {\"align\": \"left\"}, \"hovermode\": \"closest\", \"mapbox\": {\"style\": \"light\"}, \"paper_bgcolor\": \"white\", \"plot_bgcolor\": \"#E5ECF6\", \"polar\": {\"angularaxis\": {\"gridcolor\": \"white\", \"linecolor\": \"white\", \"ticks\": \"\"}, \"bgcolor\": \"#E5ECF6\", \"radialaxis\": {\"gridcolor\": \"white\", \"linecolor\": \"white\", \"ticks\": \"\"}}, \"scene\": {\"xaxis\": {\"backgroundcolor\": \"#E5ECF6\", \"gridcolor\": \"white\", \"gridwidth\": 2, \"linecolor\": \"white\", \"showbackground\": true, \"ticks\": \"\", \"zerolinecolor\": \"white\"}, \"yaxis\": {\"backgroundcolor\": \"#E5ECF6\", \"gridcolor\": \"white\", \"gridwidth\": 2, \"linecolor\": \"white\", \"showbackground\": true, \"ticks\": \"\", \"zerolinecolor\": \"white\"}, \"zaxis\": {\"backgroundcolor\": \"#E5ECF6\", \"gridcolor\": \"white\", \"gridwidth\": 2, \"linecolor\": \"white\", \"showbackground\": true, \"ticks\": \"\", \"zerolinecolor\": \"white\"}}, \"shapedefaults\": {\"line\": {\"color\": \"#2a3f5f\"}}, \"ternary\": {\"aaxis\": {\"gridcolor\": \"white\", \"linecolor\": \"white\", \"ticks\": \"\"}, \"baxis\": {\"gridcolor\": \"white\", \"linecolor\": \"white\", \"ticks\": \"\"}, \"bgcolor\": \"#E5ECF6\", \"caxis\": {\"gridcolor\": \"white\", \"linecolor\": \"white\", \"ticks\": \"\"}}, \"title\": {\"x\": 0.05}, \"xaxis\": {\"automargin\": true, \"gridcolor\": \"white\", \"linecolor\": \"white\", \"ticks\": \"\", \"title\": {\"standoff\": 15}, \"zerolinecolor\": \"white\", \"zerolinewidth\": 2}, \"yaxis\": {\"automargin\": true, \"gridcolor\": \"white\", \"linecolor\": \"white\", \"ticks\": \"\", \"title\": {\"standoff\": 15}, \"zerolinecolor\": \"white\", \"zerolinewidth\": 2}}}, \"width\": 700, \"xaxis\": {\"anchor\": \"y\", \"domain\": [0.0, 1.0], \"title\": {\"text\": \"score\"}}, \"yaxis\": {\"anchor\": \"x\", \"domain\": [0.0, 1.0], \"title\": {\"text\": \"Features\"}}},\n",
              "                        {\"responsive\": true}\n",
              "                    ).then(function(){\n",
              "                            \n",
              "var gd = document.getElementById('e29356c4-cc85-48e1-b321-c8ee9bf33502');\n",
              "var x = new MutationObserver(function (mutations, observer) {{\n",
              "        var display = window.getComputedStyle(gd).display;\n",
              "        if (!display || display === 'none') {{\n",
              "            console.log([gd, 'removed!']);\n",
              "            Plotly.purge(gd);\n",
              "            observer.disconnect();\n",
              "        }}\n",
              "}});\n",
              "\n",
              "// Listen for the removal of the full notebook cells\n",
              "var notebookContainer = gd.closest('#notebook-container');\n",
              "if (notebookContainer) {{\n",
              "    x.observe(notebookContainer, {childList: true});\n",
              "}}\n",
              "\n",
              "// Listen for the clearing of the current output cell\n",
              "var outputEl = gd.closest('.output');\n",
              "if (outputEl) {{\n",
              "    x.observe(outputEl, {childList: true});\n",
              "}}\n",
              "\n",
              "                        })\n",
              "                };\n",
              "                \n",
              "            </script>\n",
              "        </div>\n",
              "</body>\n",
              "</html>"
            ]
          },
          "metadata": {
            "tags": []
          }
        }
      ]
    },
    {
      "cell_type": "markdown",
      "metadata": {
        "id": "ijnGPvs7Lh-7"
      },
      "source": [
        "### train our model on best hyperparameter (with StandardScaler)"
      ]
    },
    {
      "cell_type": "code",
      "metadata": {
        "id": "3Yf94rQ-Ox9K",
        "colab": {
          "base_uri": "https://localhost:8080/"
        },
        "outputId": "1667e28b-b9b5-4b22-a404-d5409e104a11"
      },
      "source": [
        "clf=make_pipeline(StandardScaler(),LGBMRegressor(learning_rate=0.2,n_estimators=100))\n",
        "clf.fit(x_train,y_train)\n",
        "y_predict=clf.predict(x_test)\n",
        "RMSE=mean_squared_error(y_test, y_predict, squared=False)\n",
        "print('RMSE of linear regression with L2 regularizer :',RMSE)"
      ],
      "execution_count": null,
      "outputs": [
        {
          "output_type": "stream",
          "text": [
            "RMSE of linear regression with L2 regularizer : 1.7412258839490515\n"
          ],
          "name": "stdout"
        }
      ]
    }
  ]
}